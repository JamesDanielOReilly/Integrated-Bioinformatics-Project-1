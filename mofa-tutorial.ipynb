{
 "cells": [
  {
   "cell_type": "markdown",
   "metadata": {},
   "source": [
    "# MOFA analysis of the Chromium Single Cell Multiome ATAC + Gene Expression assay\n",
    "\n",
    "## Contents\n",
    "1. Description\n",
    "2. Load libraries\n",
    "3. Load data\n",
    "4. Load metadata\n",
    "5. Parse Seurat object\n",
    "6. Normalisation\n",
    "7. Feature seclection\n",
    "8. Train the MOFA+ model\n",
    "9. MOFA downstream analysis\n",
    "10. Conclusions"
   ]
  },
  {
   "cell_type": "markdown",
   "metadata": {},
   "source": [
    "## 1. Description\n",
    "This tutorial demonstrates how MOFA can be used to integrate scRNA-seq and scATAC-seq data from the Chromium Single Cell Multiome ATAC + Gene Expression assay recently commercialised by 10x Genomics. This tutorial results from a collaboration between the 10x Genomics R&D team and the MOFA team. The data set consists of the conventional Peripheral Blood Mononuclear Cells (PBMC) from a single healthy donor, which is available here.\n",
    "\n",
    "MOFA is a factor analysis model that provides a general framework for the integration of multi-omic data sets in an unsupervised fashion. Intuitively, it can be viewed as a versatile and statistically rigorous generalisation of principal component analysis (PCA) to multi-omics data. Briefly, the model performs unsupervised dimensionality reduction simultaneously across multiple data modalities, thereby capturing the global sources of cell-to-cell variability via a small number of inferred factors. Importantly, it distinguishes variation that is shared between assays from variation that is unique to a specific assay. Thus, in this data set MOFA can be useful to disentangle the RNA and the ATAC activity of the different cellular populations that exist in PBMCs."
   ]
  },
  {
   "cell_type": "markdown",
   "metadata": {},
   "source": [
    "## 2. Install packages and load libraries\n",
    "Make sure that `MOFA2` is imported last, to avoid collisions with functions from other packages. Note that installing these packages can be problematic if you don't have some dependencies already installed on your machine (libcurl, xml, etc). Also there may be issues with unavailable dependencies. I ended up installing these packages through Rstudio. I'll try to make this seamless and straightforward once I have the time"
   ]
  },
  {
   "cell_type": "code",
   "execution_count": 4,
   "metadata": {},
   "outputs": [
    {
     "name": "stderr",
     "output_type": "stream",
     "text": [
      "Bioconductor version 3.11 (BiocManager 1.30.10), R 4.0.2 (2020-06-22)\n",
      "\n"
     ]
    }
   ],
   "source": [
    "# installing devtools and remotes\n",
    "install.packages('devtools', clean=TRUE, quiet=TRUE)\n",
    "install.packages('remotes', clean=TRUE, quiet=TRUE)\n",
    "\n",
    "# installing bioconductor and dependencies\n",
    "if (!requireNamespace(\"BiocManager\", quietly = TRUE))\n",
    "    install.packages(\"BiocManager\")\n",
    "BiocManager::install()\n",
    "\n",
    "# automatically install Bioconductor dependencies\n",
    "setRepositories(ind=1:2)"
   ]
  },
  {
   "cell_type": "code",
   "execution_count": 5,
   "metadata": {
    "scrolled": true
   },
   "outputs": [
    {
     "name": "stderr",
     "output_type": "stream",
     "text": [
      "Bioconductor version 3.11 (BiocManager 1.30.10), R 4.0.2 (2020-06-22)\n",
      "\n",
      "Installing package(s) 'AnnotationFilter', 'BiocGenerics', 'GenomeInfoDb',\n",
      "  'GenomicFeatures', 'GenomicRanges', 'IRanges', 'Rsamtools', 'S4Vectors',\n",
      "  'TFBSTools', 'ggbio', 'motifmatchr', 'AnnotationDbi', 'Seurat', 'Signac',\n",
      "  'msigdbr', 'BSgenome.Hsapiens.UCSC.hg38'\n",
      "\n",
      "Skipping install of 'MOFA2' from a github remote, the SHA1 (f6825ae7) has not changed since last install.\n",
      "  Use `force = TRUE` to force installation\n",
      "\n"
     ]
    }
   ],
   "source": [
    "# core packages needed\n",
    "install.packages('data.table', clean=TRUE, quiet=TRUE)\n",
    "install.packages('ggplot2', clean=TRUE, quiet=TRUE)\n",
    "\n",
    "# automatically install Bioconductor dependencies\n",
    "setRepositories(ind=1:2)\n",
    "\n",
    "# installing packages from Bioconductor\n",
    "BiocManager::install(c(\n",
    "  'AnnotationFilter',\n",
    "  'BiocGenerics',\n",
    "  'GenomeInfoDb',\n",
    "  'GenomicFeatures',\n",
    "  'GenomicRanges',\n",
    "  'IRanges',\n",
    "  'Rsamtools',\n",
    "  'S4Vectors',\n",
    "  'JASPAR2020',\n",
    "  'TFBSTools',\n",
    "  'ggbio',\n",
    "  'motifmatchr',\n",
    "  'AnnotationDbi',\n",
    "  'Seurat',\n",
    "  'Signac',\n",
    "  'msigdbr',\n",
    "  'BSgenome.Hsapiens.UCSC.hg38')\n",
    ")\n",
    "\n",
    "# installing MOFA2\n",
    "devtools::install_github(\"bioFAM/MOFA2/MOFA2\", build_opts = c(\"--no-resave-data --no-build-vignettes\"))"
   ]
  },
  {
   "cell_type": "code",
   "execution_count": 39,
   "metadata": {
    "scrolled": true
   },
   "outputs": [],
   "source": [
    "# load core libraries\n",
    "library(data.table)\n",
    "library(ggplot2)\n",
    "library(Seurat)\n",
    "library(Signac)\n",
    "\n",
    "# for GSEA analysis\n",
    "library(msigdbr)\n",
    "\n",
    "# For motif enrichment analysis\n",
    "library(JASPAR2020)\n",
    "library(TFBSTools)\n",
    "library(BSgenome.Hsapiens.UCSC.hg38)\n",
    "\n",
    "# MOFA\n",
    "library(MOFA2)"
   ]
  },
  {
   "cell_type": "markdown",
   "metadata": {},
   "source": [
    "## Load data\n",
    "### 3.1 Load multi-modal Seurat object\n",
    "We have created a Seurat object with RNA and ATAC data modalities stored as different assays.\n",
    "\n",
    "Note that the .rds file is 2.5gb and so cannot be stored in a GitHub repo without using git LFS. For now I have the .rds file saved in my local data directory but will not add it to the repository. It's best for now to download it from the URL when running the script."
   ]
  },
  {
   "cell_type": "code",
   "execution_count": 14,
   "metadata": {},
   "outputs": [
    {
     "data": {
      "text/plain": [
       "An object of class Seurat \n",
       "138109 features across 11909 samples within 2 assays \n",
       "Active assay: RNA (29732 features, 0 variable features)\n",
       " 1 other assay present: ATAC"
      ]
     },
     "metadata": {},
     "output_type": "display_data"
    }
   ],
   "source": [
    "# run this to download the data set\n",
    "seurat <- readRDS(url(\"ftp://ftp.ebi.ac.uk/pub/databases/mofa/10x_rna_atac_vignette/seurat.rds\"))\n",
    "\n",
    "#seurat <- readRDS(\"data/10x_rna_atac/PBMC/seurat.rds\")\n",
    "\n",
    "seurat"
   ]
  },
  {
   "cell_type": "markdown",
   "metadata": {},
   "source": [
    "The metadata slot contains the cell type annotations that have been done a priori by the 10x Genomics R&D team. This will be useful to characterise the MOFA factors. One could employ the MOFA factors to perform clustering and cell type annotation, but we wont do this here."
   ]
  },
  {
   "cell_type": "code",
   "execution_count": 15,
   "metadata": {},
   "outputs": [
    {
     "data": {
      "text/html": [
       "<table>\n",
       "<caption>A data.frame: 6 × 4</caption>\n",
       "<thead>\n",
       "\t<tr><th></th><th scope=col>celltype</th><th scope=col>broad_celltype</th><th scope=col>pass_rnaQC</th><th scope=col>pass_accQC</th></tr>\n",
       "\t<tr><th></th><th scope=col>&lt;chr&gt;</th><th scope=col>&lt;chr&gt;</th><th scope=col>&lt;lgl&gt;</th><th scope=col>&lt;lgl&gt;</th></tr>\n",
       "</thead>\n",
       "<tbody>\n",
       "\t<tr><th scope=row>AAACAGCCAAGGAATC</th><td>naive CD4 T cells </td><td>Lymphoid</td><td> TRUE</td><td> TRUE</td></tr>\n",
       "\t<tr><th scope=row>AAACAGCCAATCCCTT</th><td>memory CD4 T cells</td><td>Lymphoid</td><td> TRUE</td><td> TRUE</td></tr>\n",
       "\t<tr><th scope=row>AAACAGCCAATGCGCT</th><td>naive CD4 T cells </td><td>Lymphoid</td><td> TRUE</td><td> TRUE</td></tr>\n",
       "\t<tr><th scope=row>AAACAGCCACACTAAT</th><td>NA                </td><td>NA      </td><td>FALSE</td><td>FALSE</td></tr>\n",
       "\t<tr><th scope=row>AAACAGCCACCAACCG</th><td>NA                </td><td>NA      </td><td>FALSE</td><td>FALSE</td></tr>\n",
       "\t<tr><th scope=row>AAACAGCCAGGATAAC</th><td>NA                </td><td>NA      </td><td>FALSE</td><td>FALSE</td></tr>\n",
       "</tbody>\n",
       "</table>\n"
      ],
      "text/latex": [
       "A data.frame: 6 × 4\n",
       "\\begin{tabular}{r|llll}\n",
       "  & celltype & broad\\_celltype & pass\\_rnaQC & pass\\_accQC\\\\\n",
       "  & <chr> & <chr> & <lgl> & <lgl>\\\\\n",
       "\\hline\n",
       "\tAAACAGCCAAGGAATC & naive CD4 T cells  & Lymphoid &  TRUE &  TRUE\\\\\n",
       "\tAAACAGCCAATCCCTT & memory CD4 T cells & Lymphoid &  TRUE &  TRUE\\\\\n",
       "\tAAACAGCCAATGCGCT & naive CD4 T cells  & Lymphoid &  TRUE &  TRUE\\\\\n",
       "\tAAACAGCCACACTAAT & NA                 & NA       & FALSE & FALSE\\\\\n",
       "\tAAACAGCCACCAACCG & NA                 & NA       & FALSE & FALSE\\\\\n",
       "\tAAACAGCCAGGATAAC & NA                 & NA       & FALSE & FALSE\\\\\n",
       "\\end{tabular}\n"
      ],
      "text/markdown": [
       "\n",
       "A data.frame: 6 × 4\n",
       "\n",
       "| <!--/--> | celltype &lt;chr&gt; | broad_celltype &lt;chr&gt; | pass_rnaQC &lt;lgl&gt; | pass_accQC &lt;lgl&gt; |\n",
       "|---|---|---|---|---|\n",
       "| AAACAGCCAAGGAATC | naive CD4 T cells  | Lymphoid |  TRUE |  TRUE |\n",
       "| AAACAGCCAATCCCTT | memory CD4 T cells | Lymphoid |  TRUE |  TRUE |\n",
       "| AAACAGCCAATGCGCT | naive CD4 T cells  | Lymphoid |  TRUE |  TRUE |\n",
       "| AAACAGCCACACTAAT | NA                 | NA       | FALSE | FALSE |\n",
       "| AAACAGCCACCAACCG | NA                 | NA       | FALSE | FALSE |\n",
       "| AAACAGCCAGGATAAC | NA                 | NA       | FALSE | FALSE |\n",
       "\n"
      ],
      "text/plain": [
       "                 celltype           broad_celltype pass_rnaQC pass_accQC\n",
       "AAACAGCCAAGGAATC naive CD4 T cells  Lymphoid        TRUE       TRUE     \n",
       "AAACAGCCAATCCCTT memory CD4 T cells Lymphoid        TRUE       TRUE     \n",
       "AAACAGCCAATGCGCT naive CD4 T cells  Lymphoid        TRUE       TRUE     \n",
       "AAACAGCCACACTAAT NA                 NA             FALSE      FALSE     \n",
       "AAACAGCCACCAACCG NA                 NA             FALSE      FALSE     \n",
       "AAACAGCCAGGATAAC NA                 NA             FALSE      FALSE     "
      ]
     },
     "metadata": {},
     "output_type": "display_data"
    }
   ],
   "source": [
    "head(seurat@meta.data[,c(\"celltype\",\"broad_celltype\",\"pass_rnaQC\",\"pass_accQC\")])"
   ]
  },
  {
   "cell_type": "code",
   "execution_count": 16,
   "metadata": {},
   "outputs": [
    {
     "data": {
      "text/plain": [
       "\n",
       " CD56 (bright) NK cells     CD56 (dim) NK cells     classical monocytes \n",
       "                    407                     472                    1929 \n",
       "   effector CD8 T cells  intermediate monocytes            MAIT T cells \n",
       "                    385                     664                     106 \n",
       "         memory B cells      memory CD4 T cells              myeloid DC \n",
       "                    420                    1611                     242 \n",
       "          naive B cells       naive CD4 T cells       naive CD8 T cells \n",
       "                    295                    1462                    1549 \n",
       "non-classical monocytes         plasmacytoid DC \n",
       "                    383                     107 "
      ]
     },
     "metadata": {},
     "output_type": "display_data"
    }
   ],
   "source": [
    "table(seurat@meta.data$celltype)"
   ]
  },
  {
   "cell_type": "code",
   "execution_count": 17,
   "metadata": {},
   "outputs": [
    {
     "data": {
      "text/plain": [
       "\n",
       "Lymphoid  Myeloid \n",
       "    6814     3218 "
      ]
     },
     "metadata": {},
     "output_type": "display_data"
    }
   ],
   "source": [
    "table(seurat@meta.data$broad_celltype)"
   ]
  },
  {
   "cell_type": "markdown",
   "metadata": {},
   "source": [
    "Keep cells that pass QC for both omics"
   ]
  },
  {
   "cell_type": "code",
   "execution_count": 18,
   "metadata": {},
   "outputs": [
    {
     "data": {
      "text/plain": [
       "An object of class Seurat \n",
       "138109 features across 10032 samples within 2 assays \n",
       "Active assay: RNA (29732 features, 0 variable features)\n",
       " 1 other assay present: ATAC"
      ]
     },
     "metadata": {},
     "output_type": "display_data"
    }
   ],
   "source": [
    "seurat <- seurat %>%\n",
    "  .[,seurat@meta.data$pass_accQC==TRUE & seurat@meta.data$pass_rnaQC==TRUE]\n",
    "seurat"
   ]
  },
  {
   "cell_type": "markdown",
   "metadata": {},
   "source": [
    "The RNA expression consists of 29,732 genes and 10,032 cells"
   ]
  },
  {
   "cell_type": "code",
   "execution_count": 19,
   "metadata": {},
   "outputs": [
    {
     "data": {
      "text/plain": [
       "Assay data with 29732 features for 10032 cells\n",
       "First 10 features:\n",
       " AL627309.1, AL627309.2, AL627309.5, AL627309.4, AP006222.2, AL669831.2,\n",
       "LINC01409, FAM87B, LINC01128, LINC00115 "
      ]
     },
     "metadata": {},
     "output_type": "display_data"
    }
   ],
   "source": [
    "seurat@assays[[\"RNA\"]]"
   ]
  },
  {
   "cell_type": "markdown",
   "metadata": {},
   "source": [
    "The ATAC expression consists of 108,377 peaks and 10,032 cells"
   ]
  },
  {
   "cell_type": "code",
   "execution_count": 20,
   "metadata": {},
   "outputs": [
    {
     "data": {
      "text/plain": [
       "Assay data with 108377 features for 10032 cells\n",
       "First 10 features:\n",
       " chr1:10109-10357, chr1:180730-181630, chr1:191491-191736,\n",
       "chr1:267816-268196, chr1:586028-586373, chr1:629721-630172,\n",
       "chr1:633793-634264, chr1:777634-779926, chr1:816881-817647,\n",
       "chr1:819912-823500 "
      ]
     },
     "metadata": {},
     "output_type": "display_data"
    }
   ],
   "source": [
    "seurat@assays[[\"ATAC\"]]"
   ]
  },
  {
   "cell_type": "markdown",
   "metadata": {},
   "source": [
    "### 3.2 Load additional information\n",
    "Collect a list of position-specific weight matrices (PWM) from the JASPAR database, we’ll use this in the downstream analysis"
   ]
  },
  {
   "cell_type": "code",
   "execution_count": 21,
   "metadata": {},
   "outputs": [],
   "source": [
    "pfm <- getMatrixSet(JASPAR2020,\n",
    "  opts = list(species = \"Homo sapiens\")\n",
    ")"
   ]
  },
  {
   "cell_type": "markdown",
   "metadata": {},
   "source": [
    "## 4. Load metadata\n",
    "### 4.1 Cell metadata\n",
    "### 4.2 Feature Metadata\n",
    "Feature metadata contains genomic information for both RNA expression and ATAC peaks"
   ]
  },
  {
   "cell_type": "code",
   "execution_count": 41,
   "metadata": {},
   "outputs": [],
   "source": [
    "feature_metadata <- fread(\"ftp://ftp.ebi.ac.uk/pub/databases/mofa/10x_rna_atac_vignette/filtered_feature_bc_matrix/features.tsv.gz\") %>%\n",
    "  setnames(c(\"ens_id\",\"gene\",\"view\",\"chr\",\"start\",\"end\"))"
   ]
  },
  {
   "cell_type": "markdown",
   "metadata": {},
   "source": [
    "Fetch RNA metadata"
   ]
  },
  {
   "cell_type": "code",
   "execution_count": 34,
   "metadata": {
    "scrolled": true
   },
   "outputs": [
    {
     "data": {
      "text/html": [
       "<table>\n",
       "<caption>A data.table: 3 × 6</caption>\n",
       "<thead>\n",
       "\t<tr><th scope=col>ens_id</th><th scope=col>gene</th><th scope=col>view</th><th scope=col>chr</th><th scope=col>start</th><th scope=col>end</th></tr>\n",
       "\t<tr><th scope=col>&lt;chr&gt;</th><th scope=col>&lt;chr&gt;</th><th scope=col>&lt;chr&gt;</th><th scope=col>&lt;chr&gt;</th><th scope=col>&lt;int&gt;</th><th scope=col>&lt;int&gt;</th></tr>\n",
       "</thead>\n",
       "<tbody>\n",
       "\t<tr><td>ENSG00000243485</td><td>MIR1302-2HG</td><td>Gene Expression</td><td>chr1</td><td>29553</td><td>30267</td></tr>\n",
       "\t<tr><td>ENSG00000237613</td><td>FAM138A    </td><td>Gene Expression</td><td>chr1</td><td>36080</td><td>36081</td></tr>\n",
       "\t<tr><td>ENSG00000186092</td><td>OR4F5      </td><td>Gene Expression</td><td>chr1</td><td>65418</td><td>69055</td></tr>\n",
       "</tbody>\n",
       "</table>\n"
      ],
      "text/latex": [
       "A data.table: 3 × 6\n",
       "\\begin{tabular}{llllll}\n",
       " ens\\_id & gene & view & chr & start & end\\\\\n",
       " <chr> & <chr> & <chr> & <chr> & <int> & <int>\\\\\n",
       "\\hline\n",
       "\t ENSG00000243485 & MIR1302-2HG & Gene Expression & chr1 & 29553 & 30267\\\\\n",
       "\t ENSG00000237613 & FAM138A     & Gene Expression & chr1 & 36080 & 36081\\\\\n",
       "\t ENSG00000186092 & OR4F5       & Gene Expression & chr1 & 65418 & 69055\\\\\n",
       "\\end{tabular}\n"
      ],
      "text/markdown": [
       "\n",
       "A data.table: 3 × 6\n",
       "\n",
       "| ens_id &lt;chr&gt; | gene &lt;chr&gt; | view &lt;chr&gt; | chr &lt;chr&gt; | start &lt;int&gt; | end &lt;int&gt; |\n",
       "|---|---|---|---|---|---|\n",
       "| ENSG00000243485 | MIR1302-2HG | Gene Expression | chr1 | 29553 | 30267 |\n",
       "| ENSG00000237613 | FAM138A     | Gene Expression | chr1 | 36080 | 36081 |\n",
       "| ENSG00000186092 | OR4F5       | Gene Expression | chr1 | 65418 | 69055 |\n",
       "\n"
      ],
      "text/plain": [
       "  ens_id          gene        view            chr  start end  \n",
       "1 ENSG00000243485 MIR1302-2HG Gene Expression chr1 29553 30267\n",
       "2 ENSG00000237613 FAM138A     Gene Expression chr1 36080 36081\n",
       "3 ENSG00000186092 OR4F5       Gene Expression chr1 65418 69055"
      ]
     },
     "metadata": {},
     "output_type": "display_data"
    }
   ],
   "source": [
    "feature_metadata.rna <- feature_metadata[view==\"Gene Expression\"]\n",
    "head(feature_metadata.rna, n=3)"
   ]
  },
  {
   "cell_type": "markdown",
   "metadata": {},
   "source": [
    "Fetch ATAC metadata and classify peaks into promoter-overlapping and distal"
   ]
  },
  {
   "cell_type": "code",
   "execution_count": 62,
   "metadata": {},
   "outputs": [
    {
     "data": {
      "text/html": [
       "<table>\n",
       "<caption>A data.table: 3 × 5</caption>\n",
       "<thead>\n",
       "\t<tr><th scope=col>peak</th><th scope=col>view</th><th scope=col>chr</th><th scope=col>start</th><th scope=col>end</th></tr>\n",
       "\t<tr><th scope=col>&lt;chr&gt;</th><th scope=col>&lt;chr&gt;</th><th scope=col>&lt;chr&gt;</th><th scope=col>&lt;int&gt;</th><th scope=col>&lt;int&gt;</th></tr>\n",
       "</thead>\n",
       "<tbody>\n",
       "\t<tr><td>chr1:10109-10357  </td><td>Peaks</td><td>chr1</td><td> 10109</td><td> 10357</td></tr>\n",
       "\t<tr><td>chr1:180730-181630</td><td>Peaks</td><td>chr1</td><td>180730</td><td>181630</td></tr>\n",
       "\t<tr><td>chr1:191491-191736</td><td>Peaks</td><td>chr1</td><td>191491</td><td>191736</td></tr>\n",
       "</tbody>\n",
       "</table>\n"
      ],
      "text/latex": [
       "A data.table: 3 × 5\n",
       "\\begin{tabular}{lllll}\n",
       " peak & view & chr & start & end\\\\\n",
       " <chr> & <chr> & <chr> & <int> & <int>\\\\\n",
       "\\hline\n",
       "\t chr1:10109-10357   & Peaks & chr1 &  10109 &  10357\\\\\n",
       "\t chr1:180730-181630 & Peaks & chr1 & 180730 & 181630\\\\\n",
       "\t chr1:191491-191736 & Peaks & chr1 & 191491 & 191736\\\\\n",
       "\\end{tabular}\n"
      ],
      "text/markdown": [
       "\n",
       "A data.table: 3 × 5\n",
       "\n",
       "| peak &lt;chr&gt; | view &lt;chr&gt; | chr &lt;chr&gt; | start &lt;int&gt; | end &lt;int&gt; |\n",
       "|---|---|---|---|---|\n",
       "| chr1:10109-10357   | Peaks | chr1 |  10109 |  10357 |\n",
       "| chr1:180730-181630 | Peaks | chr1 | 180730 | 181630 |\n",
       "| chr1:191491-191736 | Peaks | chr1 | 191491 | 191736 |\n",
       "\n"
      ],
      "text/plain": [
       "  peak               view  chr  start  end   \n",
       "1 chr1:10109-10357   Peaks chr1  10109  10357\n",
       "2 chr1:180730-181630 Peaks chr1 180730 181630\n",
       "3 chr1:191491-191736 Peaks chr1 191491 191736"
      ]
     },
     "metadata": {},
     "output_type": "display_data"
    }
   ],
   "source": [
    "feature_metadata.atac <- feature_metadata[view==\"Peaks\"] %>% \n",
    "  .[,ens_id:=NULL] %>% setnames(\"gene\",\"peak\")\n",
    "head(feature_metadata.atac, n=3)"
   ]
  },
  {
   "cell_type": "code",
   "execution_count": 63,
   "metadata": {},
   "outputs": [],
   "source": [
    "foo <- fread(\"ftp://ftp.ebi.ac.uk/pub/databases/mofa/10x_rna_atac_vignette/atac_peak_annotation.tsv\") %>%\n",
    "  .[,c(\"peak\",\"peak_type\")] %>%\n",
    "  .[peak_type%in%c(\"distal\", \"promoter\")]\n",
    "feature_metadata.atac <- feature_metadata.atac %>% merge(foo,by=\"peak\",all.x=TRUE)"
   ]
  },
  {
   "cell_type": "code",
   "execution_count": 64,
   "metadata": {},
   "outputs": [
    {
     "data": {
      "text/plain": [
       "\n",
       "  distal promoter \n",
       "   91822    16074 "
      ]
     },
     "metadata": {},
     "output_type": "display_data"
    }
   ],
   "source": [
    "table(feature_metadata.atac$peak_type) # issue here, peak_type isn't a valid variable it seems"
   ]
  },
  {
   "cell_type": "markdown",
   "metadata": {},
   "source": [
    "## 5. Parse Seurat object\n",
    "Split ATAC matrix depending on the peak type and create a `ChromatinAssay` for each modality using the Signac package. This object requires a GRanges object with the peak metadata. We also provide an optional motif matrix that we’ll use for downstream analysis."
   ]
  },
  {
   "cell_type": "code",
   "execution_count": 65,
   "metadata": {},
   "outputs": [
    {
     "name": "stderr",
     "output_type": "stream",
     "text": [
      "Warning message in .Seqinfo.mergexy(x, y):\n",
      "\"Each of the 2 combined objects has sequence levels not in the other:\n",
      "  - in 'x': chrY, chrM, chr1_GL383518v1_alt, chr1_GL383519v1_alt, chr1_GL383520v2_alt, chr1_KI270759v1_alt, chr1_KI270760v1_alt, chr1_KI270761v1_alt, chr1_KI270762v1_alt, chr1_KI270763v1_alt, chr1_KI270764v1_alt, chr1_KI270765v1_alt, chr1_KI270766v1_alt, chr1_KI270892v1_alt, chr2_GL383521v1_alt, chr2_GL383522v1_alt, chr2_GL582966v2_alt, chr2_KI270767v1_alt, chr2_KI270768v1_alt, chr2_KI270769v1_alt, chr2_KI270770v1_alt, chr2_KI270771v1_alt, chr2_KI270772v1_alt, chr2_KI270773v1_alt, chr2_KI270774v1_alt, chr2_KI270775v1_alt, chr2_KI270776v1_alt, chr2_KI270893v1_alt, chr2_KI270894v1_alt, chr3_GL383526v1_alt, chr3_JH636055v2_alt, chr3_KI270777v1_alt, chr3_KI270778v1_alt, chr3_KI270779v1_alt, chr3_KI270780v1_alt, chr3_KI270781v1_alt, chr3_KI270782v1_alt, chr3_KI270783v1_alt, chr3_KI270784v1_alt, chr3_KI270895v1_alt, chr3_KI270924v1_alt, chr3_KI270934v1_alt, chr3_KI270935v1_alt, chr3_KI270936v1_alt, chr3_KI270937v1_alt, chr4_GL000257v2_alt, chr4_GL383527v1_alt, chr4_GL383528v1_alt, chr4_KI270785v1_alt, chr4_KI270786v1_alt, chr4_KI270787v1_alt, chr4_KI270788v1_alt, chr4_KI270789v1_alt, chr4_KI270790v1_alt, chr4_KI270896v1_alt, chr4_KI270925v1_alt, chr5_GL339449v2_alt, chr5_GL383530v1_alt, chr5_GL383531v1_alt, chr5_GL383532v1_alt, chr5_GL949742v1_alt, chr5_KI270791v1_alt, chr5_KI270792v1_alt, chr5_KI270793v1_alt, chr5_KI270794v1_alt, chr5_KI270795v1_alt, chr5_KI270796v1_alt, chr5_KI270897v1_alt, chr5_KI270898v1_alt, chr6_GL000250v2_alt, chr6_GL000251v2_alt, chr6_GL000252v2_alt, chr6_GL000253v2_alt, chr6_GL000254v2_alt, chr6_GL000255v2_alt, chr6_GL000256v2_alt, chr6_GL383533v1_alt, chr6_KB021644v2_alt, chr6_KI270758v1_alt, chr6_KI270797v1_alt, chr6_KI270798v1_alt, chr6_KI270799v1_alt, chr6_KI270800v1_alt, chr6_KI270801v1_alt, chr6_KI270802v1_alt, chr7_GL383534v2_alt, chr7_KI270803v1_alt, chr7_KI270804v1_alt, chr7_KI270805v1_alt, chr7_KI270806v1_alt, chr7_KI270807v1_alt, chr7_KI270808v1_alt, chr7_KI270809v1_alt, chr7_KI270899v1_alt, chr8_KI270810v1_alt, chr8_KI270811v1_alt, chr8_KI270812v1_alt, chr8_KI270813v1_alt, chr8_KI270814v1_alt, chr8_KI270815v1_alt, chr8_KI270816v1_alt, chr8_KI270817v1_alt, chr8_KI270818v1_alt, chr8_KI270819v1_alt, chr8_KI270820v1_alt, chr8_KI270821v1_alt, chr8_KI270822v1_alt, chr8_KI270900v1_alt, chr8_KI270901v1_alt, chr8_KI270926v1_alt, chr9_GL383539v1_alt, chr9_GL383540v1_alt, chr9_GL383541v1_alt, chr9_GL383542v1_alt, chr9_KI270823v1_alt, chr10_GL383545v1_alt, chr10_GL383546v1_alt, chr10_KI270824v1_alt, chr10_KI270825v1_alt, chr11_GL383547v1_alt, chr11_JH159136v1_alt, chr11_JH159137v1_alt, chr11_KI270826v1_alt, chr11_KI270827v1_alt, chr11_KI270829v1_alt, chr11_KI270830v1_alt, chr11_KI270831v1_alt, chr11_KI270832v1_alt, chr11_KI270902v1_alt, chr11_KI270903v1_alt, chr11_KI270927v1_alt, chr12_GL383549v1_alt, chr12_GL383550v2_alt, chr12_GL383551v1_alt, chr12_GL383552v1_alt, chr12_GL383553v2_alt, chr12_GL877875v1_alt, chr12_GL877876v1_alt, chr12_KI270833v1_alt, chr12_KI270834v1_alt, chr12_KI270835v1_alt, chr12_KI270836v1_alt, chr12_KI270837v1_alt, chr12_KI270904v1_alt, chr13_KI270838v1_alt, chr13_KI270839v1_alt, chr13_KI270840v1_alt, chr13_KI270841v1_alt, chr13_KI270842v1_alt, chr13_KI270843v1_alt, chr14_KI270844v1_alt, chr14_KI270845v1_alt, chr14_KI270846v1_alt, chr14_KI270847v1_alt, chr15_GL383554v1_alt, chr15_GL383555v2_alt, chr15_KI270848v1_alt, chr15_KI270849v1_alt, chr15_KI270850v1_alt, chr15_KI270851v1_alt, chr15_KI270852v1_alt, chr15_KI270905v1_alt, chr15_KI270906v1_alt, chr16_GL383556v1_alt, chr16_GL383557v1_alt, chr16_KI270853v1_alt, chr16_KI270854v1_alt, chr16_KI270855v1_alt, chr16_KI270856v1_alt, chr17_GL000258v2_alt, chr17_GL383563v3_alt, chr17_GL383564v2_alt, chr17_GL383565v1_alt, chr17_GL383566v1_alt, chr17_JH159146v1_alt, chr17_JH159147v1_alt, chr17_JH159148v1_alt, chr17_KI270857v1_alt, chr17_KI270858v1_alt, chr17_KI270859v1_alt, chr17_KI270860v1_alt, chr17_KI270861v1_alt, chr17_KI270862v1_alt, chr17_KI270907v1_alt, chr17_KI270908v1_alt, chr17_KI270909v1_alt, chr17_KI270910v1_alt, chr18_GL383567v1_alt, chr18_GL383568v1_alt, chr18_GL383569v1_alt, chr18_GL383570v1_alt, chr18_GL383571v1_alt, chr18_GL383572v1_alt, chr18_KI270863v1_alt, chr18_KI270864v1_alt, chr18_KI270911v1_alt, chr18_KI270912v1_alt, chr19_GL000209v2_alt, chr19_GL383573v1_alt, chr19_GL383574v1_alt, chr19_GL383575v2_alt, chr19_GL383576v1_alt, chr19_GL949746v1_alt, chr19_GL949747v2_alt, chr19_GL949748v2_alt, chr19_GL949749v2_alt, chr19_GL949750v2_alt, chr19_GL949751v2_alt, chr19_GL949752v1_alt, chr19_GL949753v2_alt, chr19_KI270865v1_alt, chr19_KI270866v1_alt, chr19_KI270867v1_alt, chr19_KI270868v1_alt, chr19_KI270882v1_alt, chr19_KI270883v1_alt, chr19_KI270884v1_alt, chr19_KI270885v1_alt, chr19_KI270886v1_alt, chr19_KI270887v1_alt, chr19_KI270888v1_alt, chr19_KI270889v1_alt, chr19_KI270890v1_alt, chr19_KI270891v1_alt, chr19_KI270914v1_alt, chr19_KI270915v1_alt, chr19_KI270916v1_alt, chr19_KI270917v1_alt, chr19_KI270918v1_alt, chr19_KI270919v1_alt, chr19_KI270920v1_alt, chr19_KI270921v1_alt, chr19_KI270922v1_alt, chr19_KI270923v1_alt, chr19_KI270929v1_alt, chr19_KI270930v1_alt, chr19_KI270931v1_alt, chr19_KI270932v1_alt, chr19_KI270933v1_alt, chr19_KI270938v1_alt, chr20_GL383577v2_alt, chr20_KI270869v1_alt, chr20_KI270870v1_alt, chr20_KI270871v1_alt, chr21_GL383578v2_alt, chr21_GL383579v2_alt, chr21_GL383580v2_alt, chr21_GL383581v2_alt, chr21_KI270872v1_alt, chr21_KI270873v1_alt, chr21_KI270874v1_alt, chr22_GL383582v2_alt, chr22_GL383583v2_alt, chr22_KB663609v1_alt, chr22_KI270875v1_alt, chr22_KI270876v1_alt, chr22_KI270877v1_alt, chr22_KI270878v1_alt, chr22_KI270879v1_alt, chr22_KI270928v1_alt, chrX_KI270880v1_alt, chrX_KI270881v1_alt, chrX_KI270913v1_alt, chr1_KI270706v1_random, chr1_KI270707v1_random, chr1_KI270708v1_random, chr1_KI270709v1_random, chr1_KI270710v1_random, chr1_KI270711v1_random, chr1_KI270712v1_random, chr1_KI270713v1_random, chr1_KI270714v1_random, chr2_KI270715v1_random, chr2_KI270716v1_random, chr3_GL000221v1_random, chr4_GL000008v2_random, chr5_GL000208v1_random, chr9_KI270717v1_random, chr9_KI270718v1_random, chr9_KI270719v1_random, chr9_KI270720v1_random, chr11_KI270721v1_random, chr14_GL000009v2_random, chr14_GL000194v1_random, chr14_GL000225v1_random, chr14_KI270722v1_random, chr14_KI270723v1_random, chr14_KI270724v1_random, chr14_KI270725v1_random, chr14_KI270726v1_random, chr15_KI270727v1_random, chr16_KI270728v1_random, chr17_GL000205v2_random, chr17_KI270729v1_random, chr17_KI270730v1_random, chr22_KI270731v1_random, chr22_KI270732v1_random, chr22_KI270733v1_random, chr22_KI270734v1_random, chr22_KI270735v1_random, chr22_KI270736v1_random, chr22_KI270737v1_random, chr22_KI270738v1_random, chr22_KI270739v1_random, chrY_KI270740v1_random, chrUn_GL000195v1, chrUn_GL000213v1, chrUn_GL000214v1, chrUn_GL000216v2, chrUn_GL000218v1, chrUn_GL000219v1, chrUn_GL000220v1, chrUn_GL000224v1, chrUn_GL000226v1, chrUn_KI270302v1, chrUn_KI270303v1, chrUn_KI270304v1, chrUn_KI270305v1, chrUn_KI270310v1, chrUn_KI270311v1, chrUn_KI270312v1, chrUn_KI270315v1, chrUn_KI270316v1, chrUn_KI270317v1, chrUn_KI270320v1, chrUn_KI270322v1, chrUn_KI270329v1, chrUn_KI270330v1, chrUn_KI270333v1, chrUn_KI270334v1, chrUn_KI270335v1, chrUn_KI270336v1, chrUn_KI270337v1, chrUn_KI270338v1, chrUn_KI270340v1, chrUn_KI270362v1, chrUn_KI270363v1, chrUn_KI270364v1, chrUn_KI270366v1, chrUn_KI270371v1, chrUn_KI270372v1, chrUn_KI270373v1, chrUn_KI270374v1, chrUn_KI270375v1, chrUn_KI270376v1, chrUn_KI270378v1, chrUn_KI270379v1, chrUn_KI270381v1, chrUn_KI270382v1, chrUn_KI270383v1, chrUn_KI270384v1, chrUn_KI270385v1, chrUn_KI270386v1, chrUn_KI270387v1, chrUn_KI270388v1, chrUn_KI270389v1, chrUn_KI270390v1, chrUn_KI270391v1, chrUn_KI270392v1, chrUn_KI270393v1, chrUn_KI270394v1, chrUn_KI270395v1, chrUn_KI270396v1, chrUn_KI270411v1, chrUn_KI270412v1, chrUn_KI270414v1, chrUn_KI270417v1, chrUn_KI270418v1, chrUn_KI270419v1, chrUn_KI270420v1, chrUn_KI270422v1, chrUn_KI270423v1, chrUn_KI270424v1, chrUn_KI270425v1, chrUn_KI270429v1, chrUn_KI270435v1, chrUn_KI270438v1, chrUn_KI270442v1, chrUn_KI270448v1, chrUn_KI270465v1, chrUn_KI270466v1, chrUn_KI270467v1, chrUn_KI270468v1, chrUn_KI270507v1, chrUn_KI270508v1, \"\n"
     ]
    },
    {
     "ename": "ERROR",
     "evalue": "Error in .getOneSeqFromBSgenomeMultipleSequences(x, name, start, NA, width, : sequence GL000194.1 not found\n",
     "output_type": "error",
     "traceback": [
      "Error in .getOneSeqFromBSgenomeMultipleSequences(x, name, start, NA, width, : sequence GL000194.1 not found\nTraceback:\n",
      "1. CreateMotifMatrix(features = peaks.granges, pwm = pfm, genome = \"hg38\", \n .     use.counts = FALSE) %>% as.matrix",
      "2. eval(lhs, parent, parent)",
      "3. eval(lhs, parent, parent)",
      "4. CreateMotifMatrix(features = peaks.granges, pwm = pfm, genome = \"hg38\", \n .     use.counts = FALSE)",
      "5. motifmatchr::matchMotifs(pwms = pwm, subject = features, genome = genome, \n .     out = \"scores\", ...)",
      "6. motifmatchr::matchMotifs(pwms = pwm, subject = features, genome = genome, \n .     out = \"scores\", ...)",
      "7. matchMotifs(pwms_list, subject, ...)",
      "8. matchMotifs(pwms_list, subject, ...)",
      "9. .local(pwms, subject, ...)",
      "10. getSeq(genome, subject)",
      "11. getSeq(genome, subject)",
      "12. .local(x, ...)",
      "13. .extractFromBSgenomeMultipleSequences(x, mseq_args$names, mseq_args$start, \n  .     mseq_args$end, mseq_args$width, mseq_args$strand)",
      "14. lapply(seq_len(length(names)), function(i) {\n  .     name <- as.character(seqnames(names))[i]\n  .     start <- start(names)[i]\n  .     width <- width(names)[i]\n  .     strand <- as.character(strand(names))[i]\n  .     .getOneSeqFromBSgenomeMultipleSequences(x, name, start, NA, \n  .         width, strand, exact.match = TRUE)\n  . })",
      "15. lapply(seq_len(length(names)), function(i) {\n  .     name <- as.character(seqnames(names))[i]\n  .     start <- start(names)[i]\n  .     width <- width(names)[i]\n  .     strand <- as.character(strand(names))[i]\n  .     .getOneSeqFromBSgenomeMultipleSequences(x, name, start, NA, \n  .         width, strand, exact.match = TRUE)\n  . })",
      "16. FUN(X[[i]], ...)",
      "17. .getOneSeqFromBSgenomeMultipleSequences(x, name, start, NA, width, \n  .     strand, exact.match = TRUE)",
      "18. stop(\"sequence \", name, \" not found\")"
     ]
    }
   ],
   "source": [
    "for (i in c(\"distal\",\"promoter\")) {\n",
    "  \n",
    "  # Create GRanges\n",
    "  peaks.granges <- feature_metadata.atac %>%\n",
    "    .[peak_type==i] %>%\n",
    "    .[,c(\"chr\",\"start\",\"end\",\"peak\")] %>%\n",
    "    makeGRangesFromDataFrame(keep.extra.columns = TRUE, ignore.strand = TRUE)\n",
    "\n",
    "  # Scan motifs throughout the DNA sequence of each peak and create a binary matrix of motif-peak presence.\n",
    "  motif.matrix <- CreateMotifMatrix(\n",
    "    features = peaks.granges,\n",
    "    pwm = pfm,\n",
    "    genome = 'hg38',\n",
    "    use.counts = FALSE\n",
    "  ) %>% as.matrix\n",
    "  \n",
    "  # AddChromatinAssay to the Seurat object\n",
    "  seurat@assays[[paste0(\"ATAC_\",i)]] <- CreateChromatinAssay(\n",
    "    seurat@assays$ATAC@counts[peaks.granges$peak,], \n",
    "    ranges = peaks.granges,\n",
    "    motifs = CreateMotifObject(motif.matrix, pfm)\n",
    "  )\n",
    "  \n",
    "}\n",
    "seurat"
   ]
  }
 ],
 "metadata": {
  "kernelspec": {
   "display_name": "R",
   "language": "R",
   "name": "ir"
  },
  "language_info": {
   "codemirror_mode": "r",
   "file_extension": ".r",
   "mimetype": "text/x-r-source",
   "name": "R",
   "pygments_lexer": "r",
   "version": "4.0.2"
  }
 },
 "nbformat": 4,
 "nbformat_minor": 4
}
