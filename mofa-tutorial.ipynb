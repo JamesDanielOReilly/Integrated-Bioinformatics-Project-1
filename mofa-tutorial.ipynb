{
 "cells": [
  {
   "cell_type": "markdown",
   "metadata": {},
   "source": [
    "# MOFA analysis of the Chromium Single Cell Multiome ATAC + Gene Expression assay\n",
    "\n",
    "## Contents\n",
    "1. Description\n",
    "2. Load libraries\n",
    "3. Load data\n",
    "4. Load metadata\n",
    "5. Parse Seurat object\n",
    "6. Normalisation\n",
    "7. Feature seclection\n",
    "8. Train the MOFA+ model\n",
    "9. MOFA downstream analysis\n",
    "10. Conclusions"
   ]
  },
  {
   "cell_type": "markdown",
   "metadata": {},
   "source": [
    "## 1. Description\n",
    "This tutorial demonstrates how MOFA can be used to integrate scRNA-seq and scATAC-seq data from the Chromium Single Cell Multiome ATAC + Gene Expression assay recently commercialised by 10x Genomics. This tutorial results from a collaboration between the 10x Genomics R&D team and the MOFA team. The data set consists of the conventional Peripheral Blood Mononuclear Cells (PBMC) from a single healthy donor, which is available here.\n",
    "\n",
    "MOFA is a factor analysis model that provides a general framework for the integration of multi-omic data sets in an unsupervised fashion. Intuitively, it can be viewed as a versatile and statistically rigorous generalisation of principal component analysis (PCA) to multi-omics data. Briefly, the model performs unsupervised dimensionality reduction simultaneously across multiple data modalities, thereby capturing the global sources of cell-to-cell variability via a small number of inferred factors. Importantly, it distinguishes variation that is shared between assays from variation that is unique to a specific assay. Thus, in this data set MOFA can be useful to disentangle the RNA and the ATAC activity of the different cellular populations that exist in PBMCs."
   ]
  },
  {
   "cell_type": "markdown",
   "metadata": {},
   "source": [
    "## 2. Install packages and load libraries\n",
    "Make sure that `MOFA2` is imported last, to avoid collisions with functions from other packages. Note that installing these packages can be problematic if you don't have some dependencies already installed on your machine (libcurl, xml, etc). Also there may be issues with unavailable dependencies. I ended up installing these packages through Rstudio. I'll try to make this seamless and straightforward once I have the time"
   ]
  },
  {
   "cell_type": "code",
   "execution_count": 4,
   "metadata": {},
   "outputs": [
    {
     "name": "stderr",
     "output_type": "stream",
     "text": [
      "Bioconductor version 3.11 (BiocManager 1.30.10), R 4.0.2 (2020-06-22)\n",
      "\n"
     ]
    }
   ],
   "source": [
    "# installing devtools and remotes\n",
    "install.packages('devtools', clean=TRUE, quiet=TRUE)\n",
    "install.packages('remotes', clean=TRUE, quiet=TRUE)\n",
    "\n",
    "# installing bioconductor and dependencies\n",
    "if (!requireNamespace(\"BiocManager\", quietly = TRUE))\n",
    "    install.packages(\"BiocManager\")\n",
    "BiocManager::install()\n",
    "\n",
    "# automatically install Bioconductor dependencies\n",
    "setRepositories(ind=1:2)"
   ]
  },
  {
   "cell_type": "code",
   "execution_count": 5,
   "metadata": {
    "scrolled": true
   },
   "outputs": [
    {
     "name": "stderr",
     "output_type": "stream",
     "text": [
      "Bioconductor version 3.11 (BiocManager 1.30.10), R 4.0.2 (2020-06-22)\n",
      "\n",
      "Installing package(s) 'AnnotationFilter', 'BiocGenerics', 'GenomeInfoDb',\n",
      "  'GenomicFeatures', 'GenomicRanges', 'IRanges', 'Rsamtools', 'S4Vectors',\n",
      "  'TFBSTools', 'ggbio', 'motifmatchr', 'AnnotationDbi', 'Seurat', 'Signac',\n",
      "  'msigdbr', 'BSgenome.Hsapiens.UCSC.hg38'\n",
      "\n",
      "Skipping install of 'MOFA2' from a github remote, the SHA1 (f6825ae7) has not changed since last install.\n",
      "  Use `force = TRUE` to force installation\n",
      "\n"
     ]
    }
   ],
   "source": [
    "# core packages needed\n",
    "install.packages('data.table', clean=TRUE, quiet=TRUE)\n",
    "install.packages('ggplot2', clean=TRUE, quiet=TRUE)\n",
    "\n",
    "# automatically install Bioconductor dependencies\n",
    "setRepositories(ind=1:2)\n",
    "\n",
    "# installing packages from Bioconductor\n",
    "BiocManager::install(c(\n",
    "  'AnnotationFilter',\n",
    "  'BiocGenerics',\n",
    "  'GenomeInfoDb',\n",
    "  'GenomicFeatures',\n",
    "  'GenomicRanges',\n",
    "  'IRanges',\n",
    "  'Rsamtools',\n",
    "  'S4Vectors',\n",
    "  'JASPAR2020',\n",
    "  'TFBSTools',\n",
    "  'ggbio',\n",
    "  'motifmatchr',\n",
    "  'AnnotationDbi',\n",
    "  'Seurat',\n",
    "  'Signac',\n",
    "  'msigdbr',\n",
    "  'BSgenome.Hsapiens.UCSC.hg38')\n",
    ")\n",
    "\n",
    "# installing MOFA2\n",
    "devtools::install_github(\"bioFAM/MOFA2/MOFA2\", build_opts = c(\"--no-resave-data --no-build-vignettes\"))"
   ]
  },
  {
   "cell_type": "code",
   "execution_count": 9,
   "metadata": {
    "scrolled": true
   },
   "outputs": [],
   "source": [
    "# load core libraries\n",
    "library(data.table)\n",
    "library(ggplot2)\n",
    "library(Seurat)\n",
    "library(Signac)\n",
    "\n",
    "# for GSEA analysis\n",
    "library(msigdbr)\n",
    "\n",
    "# For motif enrichment analysis\n",
    "library(JASPAR2020)\n",
    "library(TFBSTools)\n",
    "library(BSgenome.Hsapiens.UCSC.hg38)\n",
    "\n",
    "# MOFA\n",
    "library(MOFA2)"
   ]
  },
  {
   "cell_type": "markdown",
   "metadata": {},
   "source": [
    "## Load data\n",
    "### 3.1 Load multi-modal Seurat object\n",
    "We have created a Seurat object with RNA and ATAC data modalities stored as different assays.\n",
    "\n",
    "Note that the .rds file is 2.5gb and so cannot be stored in a GitHub repo without using git LFS. For now I have the .rds file saved in my local data directory but will not add it to the repository."
   ]
  },
  {
   "cell_type": "code",
   "execution_count": 14,
   "metadata": {},
   "outputs": [
    {
     "data": {
      "text/plain": [
       "An object of class Seurat \n",
       "138109 features across 11909 samples within 2 assays \n",
       "Active assay: RNA (29732 features, 0 variable features)\n",
       " 1 other assay present: ATAC"
      ]
     },
     "metadata": {},
     "output_type": "display_data"
    }
   ],
   "source": [
    "# run this to download the data set\n",
    "# seurat <- readRDS(url(\"ftp://ftp.ebi.ac.uk/pub/databases/mofa/10x_rna_atac_vignette/seurat.rds\"))\n",
    "\n",
    "seurat <- readRDS(\"data/10x_rna_atac/PBMC/seurat.rds\")\n",
    "\n",
    "seurat"
   ]
  },
  {
   "cell_type": "markdown",
   "metadata": {},
   "source": [
    "The metadata slot contains the cell type annotations that have been done a priori by the 10x Genomics R&D team. This will be useful to characterise the MOFA factors. One could employ the MOFA factors to perform clustering and cell type annotation, but we wont do this here."
   ]
  },
  {
   "cell_type": "code",
   "execution_count": 15,
   "metadata": {},
   "outputs": [
    {
     "data": {
      "text/html": [
       "<table>\n",
       "<caption>A data.frame: 6 × 4</caption>\n",
       "<thead>\n",
       "\t<tr><th></th><th scope=col>celltype</th><th scope=col>broad_celltype</th><th scope=col>pass_rnaQC</th><th scope=col>pass_accQC</th></tr>\n",
       "\t<tr><th></th><th scope=col>&lt;chr&gt;</th><th scope=col>&lt;chr&gt;</th><th scope=col>&lt;lgl&gt;</th><th scope=col>&lt;lgl&gt;</th></tr>\n",
       "</thead>\n",
       "<tbody>\n",
       "\t<tr><th scope=row>AAACAGCCAAGGAATC</th><td>naive CD4 T cells </td><td>Lymphoid</td><td> TRUE</td><td> TRUE</td></tr>\n",
       "\t<tr><th scope=row>AAACAGCCAATCCCTT</th><td>memory CD4 T cells</td><td>Lymphoid</td><td> TRUE</td><td> TRUE</td></tr>\n",
       "\t<tr><th scope=row>AAACAGCCAATGCGCT</th><td>naive CD4 T cells </td><td>Lymphoid</td><td> TRUE</td><td> TRUE</td></tr>\n",
       "\t<tr><th scope=row>AAACAGCCACACTAAT</th><td>NA                </td><td>NA      </td><td>FALSE</td><td>FALSE</td></tr>\n",
       "\t<tr><th scope=row>AAACAGCCACCAACCG</th><td>NA                </td><td>NA      </td><td>FALSE</td><td>FALSE</td></tr>\n",
       "\t<tr><th scope=row>AAACAGCCAGGATAAC</th><td>NA                </td><td>NA      </td><td>FALSE</td><td>FALSE</td></tr>\n",
       "</tbody>\n",
       "</table>\n"
      ],
      "text/latex": [
       "A data.frame: 6 × 4\n",
       "\\begin{tabular}{r|llll}\n",
       "  & celltype & broad\\_celltype & pass\\_rnaQC & pass\\_accQC\\\\\n",
       "  & <chr> & <chr> & <lgl> & <lgl>\\\\\n",
       "\\hline\n",
       "\tAAACAGCCAAGGAATC & naive CD4 T cells  & Lymphoid &  TRUE &  TRUE\\\\\n",
       "\tAAACAGCCAATCCCTT & memory CD4 T cells & Lymphoid &  TRUE &  TRUE\\\\\n",
       "\tAAACAGCCAATGCGCT & naive CD4 T cells  & Lymphoid &  TRUE &  TRUE\\\\\n",
       "\tAAACAGCCACACTAAT & NA                 & NA       & FALSE & FALSE\\\\\n",
       "\tAAACAGCCACCAACCG & NA                 & NA       & FALSE & FALSE\\\\\n",
       "\tAAACAGCCAGGATAAC & NA                 & NA       & FALSE & FALSE\\\\\n",
       "\\end{tabular}\n"
      ],
      "text/markdown": [
       "\n",
       "A data.frame: 6 × 4\n",
       "\n",
       "| <!--/--> | celltype &lt;chr&gt; | broad_celltype &lt;chr&gt; | pass_rnaQC &lt;lgl&gt; | pass_accQC &lt;lgl&gt; |\n",
       "|---|---|---|---|---|\n",
       "| AAACAGCCAAGGAATC | naive CD4 T cells  | Lymphoid |  TRUE |  TRUE |\n",
       "| AAACAGCCAATCCCTT | memory CD4 T cells | Lymphoid |  TRUE |  TRUE |\n",
       "| AAACAGCCAATGCGCT | naive CD4 T cells  | Lymphoid |  TRUE |  TRUE |\n",
       "| AAACAGCCACACTAAT | NA                 | NA       | FALSE | FALSE |\n",
       "| AAACAGCCACCAACCG | NA                 | NA       | FALSE | FALSE |\n",
       "| AAACAGCCAGGATAAC | NA                 | NA       | FALSE | FALSE |\n",
       "\n"
      ],
      "text/plain": [
       "                 celltype           broad_celltype pass_rnaQC pass_accQC\n",
       "AAACAGCCAAGGAATC naive CD4 T cells  Lymphoid        TRUE       TRUE     \n",
       "AAACAGCCAATCCCTT memory CD4 T cells Lymphoid        TRUE       TRUE     \n",
       "AAACAGCCAATGCGCT naive CD4 T cells  Lymphoid        TRUE       TRUE     \n",
       "AAACAGCCACACTAAT NA                 NA             FALSE      FALSE     \n",
       "AAACAGCCACCAACCG NA                 NA             FALSE      FALSE     \n",
       "AAACAGCCAGGATAAC NA                 NA             FALSE      FALSE     "
      ]
     },
     "metadata": {},
     "output_type": "display_data"
    }
   ],
   "source": [
    "head(seurat@meta.data[,c(\"celltype\",\"broad_celltype\",\"pass_rnaQC\",\"pass_accQC\")])"
   ]
  },
  {
   "cell_type": "code",
   "execution_count": 16,
   "metadata": {},
   "outputs": [
    {
     "data": {
      "text/plain": [
       "\n",
       " CD56 (bright) NK cells     CD56 (dim) NK cells     classical monocytes \n",
       "                    407                     472                    1929 \n",
       "   effector CD8 T cells  intermediate monocytes            MAIT T cells \n",
       "                    385                     664                     106 \n",
       "         memory B cells      memory CD4 T cells              myeloid DC \n",
       "                    420                    1611                     242 \n",
       "          naive B cells       naive CD4 T cells       naive CD8 T cells \n",
       "                    295                    1462                    1549 \n",
       "non-classical monocytes         plasmacytoid DC \n",
       "                    383                     107 "
      ]
     },
     "metadata": {},
     "output_type": "display_data"
    }
   ],
   "source": [
    "table(seurat@meta.data$celltype)"
   ]
  },
  {
   "cell_type": "code",
   "execution_count": 17,
   "metadata": {},
   "outputs": [
    {
     "data": {
      "text/plain": [
       "\n",
       "Lymphoid  Myeloid \n",
       "    6814     3218 "
      ]
     },
     "metadata": {},
     "output_type": "display_data"
    }
   ],
   "source": [
    "table(seurat@meta.data$broad_celltype)"
   ]
  },
  {
   "cell_type": "markdown",
   "metadata": {},
   "source": [
    "Keep cells that pass QC for both omics"
   ]
  },
  {
   "cell_type": "code",
   "execution_count": 18,
   "metadata": {},
   "outputs": [
    {
     "data": {
      "text/plain": [
       "An object of class Seurat \n",
       "138109 features across 10032 samples within 2 assays \n",
       "Active assay: RNA (29732 features, 0 variable features)\n",
       " 1 other assay present: ATAC"
      ]
     },
     "metadata": {},
     "output_type": "display_data"
    }
   ],
   "source": [
    "seurat <- seurat %>%\n",
    "  .[,seurat@meta.data$pass_accQC==TRUE & seurat@meta.data$pass_rnaQC==TRUE]\n",
    "seurat"
   ]
  },
  {
   "cell_type": "markdown",
   "metadata": {},
   "source": [
    "The RNA expression consists of 29,732 genes and 10,032 cells"
   ]
  },
  {
   "cell_type": "code",
   "execution_count": 19,
   "metadata": {},
   "outputs": [
    {
     "data": {
      "text/plain": [
       "Assay data with 29732 features for 10032 cells\n",
       "First 10 features:\n",
       " AL627309.1, AL627309.2, AL627309.5, AL627309.4, AP006222.2, AL669831.2,\n",
       "LINC01409, FAM87B, LINC01128, LINC00115 "
      ]
     },
     "metadata": {},
     "output_type": "display_data"
    }
   ],
   "source": [
    "seurat@assays[[\"RNA\"]]"
   ]
  },
  {
   "cell_type": "markdown",
   "metadata": {},
   "source": [
    "The ATAC expression consists of 108,377 peaks and 10,032 cells"
   ]
  },
  {
   "cell_type": "code",
   "execution_count": 20,
   "metadata": {},
   "outputs": [
    {
     "data": {
      "text/plain": [
       "Assay data with 108377 features for 10032 cells\n",
       "First 10 features:\n",
       " chr1:10109-10357, chr1:180730-181630, chr1:191491-191736,\n",
       "chr1:267816-268196, chr1:586028-586373, chr1:629721-630172,\n",
       "chr1:633793-634264, chr1:777634-779926, chr1:816881-817647,\n",
       "chr1:819912-823500 "
      ]
     },
     "metadata": {},
     "output_type": "display_data"
    }
   ],
   "source": [
    "seurat@assays[[\"ATAC\"]]"
   ]
  },
  {
   "cell_type": "markdown",
   "metadata": {},
   "source": [
    "### 3.2 Load additional information\n",
    "Collect a list of position-specific weight matrices (PWM) from the JASPAR database, we’ll use this in the downstream analysis"
   ]
  },
  {
   "cell_type": "code",
   "execution_count": 21,
   "metadata": {},
   "outputs": [],
   "source": [
    "pfm <- getMatrixSet(JASPAR2020,\n",
    "  opts = list(species = \"Homo sapiens\")\n",
    ")"
   ]
  }
 ],
 "metadata": {
  "kernelspec": {
   "display_name": "R",
   "language": "R",
   "name": "ir"
  },
  "language_info": {
   "codemirror_mode": "r",
   "file_extension": ".r",
   "mimetype": "text/x-r-source",
   "name": "R",
   "pygments_lexer": "r",
   "version": "4.0.2"
  }
 },
 "nbformat": 4,
 "nbformat_minor": 4
}
