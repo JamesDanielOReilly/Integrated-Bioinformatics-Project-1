{
 "cells": [
  {
   "cell_type": "markdown",
   "metadata": {},
   "source": [
    "#### install MOFA if necessary"
   ]
  },
  {
   "cell_type": "code",
   "execution_count": 1,
   "metadata": {},
   "outputs": [
    {
     "data": {
      "text/plain": [
       "               _                           \n",
       "platform       x86_64-pc-linux-gnu         \n",
       "arch           x86_64                      \n",
       "os             linux-gnu                   \n",
       "system         x86_64, linux-gnu           \n",
       "status                                     \n",
       "major          4                           \n",
       "minor          0.2                         \n",
       "year           2020                        \n",
       "month          06                          \n",
       "day            22                          \n",
       "svn rev        78730                       \n",
       "language       R                           \n",
       "version.string R version 4.0.2 (2020-06-22)\n",
       "nickname       Taking Off Again            "
      ]
     },
     "metadata": {},
     "output_type": "display_data"
    }
   ],
   "source": [
    "version"
   ]
  },
  {
   "cell_type": "markdown",
   "metadata": {},
   "source": [
    "### requirements\n",
    "\n",
    "Either install libraries mentioned below yourself or run the following docker command in the directory with this jupyter notebook: <br> `docker run -it --rm -p 8888:8888 -v $(pwd):/home/rstudio jonasjonker/mofa2-tutorial:0.0.1`"
   ]
  },
  {
   "cell_type": "markdown",
   "metadata": {},
   "source": [
    "### [tutorial](https://raw.githack.com/bioFAM/MOFA2_tutorials/master/R_tutorials/10x_scRNA_scATAC.html)\n",
    "Vignette demonstrating how MOFA can be used to integrate scRNA-seq and scATAC-seq data.\n",
    "\n",
    "### [JASPAR2020](http://jaspar.genereg.net/)\n",
    "The JASPAR CORE contains a curated, non-redundant set of profiles, derived from published and experimentally defined transcription factor binding sites for eukaryotes. It should be used, when seeking models for specific factors or structural classes, or if experimental evidence is paramount. \n",
    "\n",
    "### [BSgenome.Hsapiens.UCSC.hg38](http://bioconductor.org/packages/release/data/annotation/html/BSgenome.Hsapiens.UCSC.hg38.html)\n",
    "Full genome sequences for Homo sapiens (Human) as provided by UCSC (hg38, based on GRCh38.p12) and stored in Biostrings objects."
   ]
  },
  {
   "cell_type": "code",
   "execution_count": 3,
   "metadata": {},
   "outputs": [
    {
     "name": "stderr",
     "output_type": "stream",
     "text": [
      "Registered S3 method overwritten by 'GGally':\n",
      "  method from   \n",
      "  +.gg   ggplot2\n",
      "\n",
      "\n",
      "\n",
      "Loading required package: BSgenome\n",
      "\n",
      "Loading required package: BiocGenerics\n",
      "\n",
      "Loading required package: parallel\n",
      "\n",
      "\n",
      "Attaching package: 'BiocGenerics'\n",
      "\n",
      "\n",
      "The following objects are masked from 'package:parallel':\n",
      "\n",
      "    clusterApply, clusterApplyLB, clusterCall, clusterEvalQ,\n",
      "    clusterExport, clusterMap, parApply, parCapply, parLapply,\n",
      "    parLapplyLB, parRapply, parSapply, parSapplyLB\n",
      "\n",
      "\n",
      "The following objects are masked from 'package:stats':\n",
      "\n",
      "    IQR, mad, sd, var, xtabs\n",
      "\n",
      "\n",
      "The following objects are masked from 'package:base':\n",
      "\n",
      "    anyDuplicated, append, as.data.frame, basename, cbind, colnames,\n",
      "    dirname, do.call, duplicated, eval, evalq, Filter, Find, get, grep,\n",
      "    grepl, intersect, is.unsorted, lapply, Map, mapply, match, mget,\n",
      "    order, paste, pmax, pmax.int, pmin, pmin.int, Position, rank,\n",
      "    rbind, Reduce, rownames, sapply, setdiff, sort, table, tapply,\n",
      "    union, unique, unsplit, which, which.max, which.min\n",
      "\n",
      "\n",
      "Loading required package: S4Vectors\n",
      "\n",
      "Loading required package: stats4\n",
      "\n",
      "\n",
      "Attaching package: 'S4Vectors'\n",
      "\n",
      "\n",
      "The following objects are masked from 'package:data.table':\n",
      "\n",
      "    first, second\n",
      "\n",
      "\n",
      "The following object is masked from 'package:base':\n",
      "\n",
      "    expand.grid\n",
      "\n",
      "\n",
      "Loading required package: IRanges\n",
      "\n",
      "\n",
      "Attaching package: 'IRanges'\n",
      "\n",
      "\n",
      "The following object is masked from 'package:data.table':\n",
      "\n",
      "    shift\n",
      "\n",
      "\n",
      "Loading required package: GenomeInfoDb\n",
      "\n",
      "Loading required package: GenomicRanges\n",
      "\n",
      "Loading required package: Biostrings\n",
      "\n",
      "Loading required package: XVector\n",
      "\n",
      "\n",
      "Attaching package: 'Biostrings'\n",
      "\n",
      "\n",
      "The following object is masked from 'package:base':\n",
      "\n",
      "    strsplit\n",
      "\n",
      "\n",
      "Loading required package: rtracklayer\n",
      "\n",
      "\n",
      "  Welcome to MOFA2. \n",
      "\n",
      "  For tutorials and application examples of MOFA2 please visit our website: https://biofam.github.io/MOFA2/\n",
      "\n",
      "\n",
      "Attaching package: 'MOFA2'\n",
      "\n",
      "\n",
      "The following object is masked from 'package:stats':\n",
      "\n",
      "    predict\n",
      "\n",
      "\n"
     ]
    }
   ],
   "source": [
    "# BiocManager::install(\"motifmatchr\") # <-- not installed in the docker image\n",
    "\n",
    "library(data.table)\n",
    "library(ggplot2)\n",
    "library(magrittr)\n",
    "library(Seurat)\n",
    "library(Signac)\n",
    "library(motifmatchr)\n",
    "\n",
    "# for GSEA analysis\n",
    "library(msigdbr)\n",
    "\n",
    "# For motif enrichment analysis\n",
    "library(JASPAR2020)\n",
    "library(TFBSTools)\n",
    "library(BSgenome.Hsapiens.UCSC.hg38)\n",
    "\n",
    "# MOFA\n",
    "library(MOFA2)"
   ]
  },
  {
   "cell_type": "markdown",
   "metadata": {},
   "source": [
    "### load R data object"
   ]
  },
  {
   "cell_type": "code",
   "execution_count": 3,
   "metadata": {},
   "outputs": [
    {
     "data": {
      "text/plain": [
       "An object of class Seurat \n",
       "138109 features across 11909 samples within 2 assays \n",
       "Active assay: RNA (29732 features, 0 variable features)\n",
       " 1 other assay present: ATAC"
      ]
     },
     "metadata": {},
     "output_type": "display_data"
    }
   ],
   "source": [
    "# seurat <- readRDS(url(\"ftp://ftp.ebi.ac.uk/pub/databases/mofa/10x_rna_atac_vignette/seurat.rds\"))\n",
    "seurat <- readRDS('seurat.rds')  # from disk\n",
    "seurat  "
   ]
  },
  {
   "cell_type": "markdown",
   "metadata": {},
   "source": [
    "### Inspect seurat.rds\n",
    "[Seurat](\"https://satijalab.org/seurat/\") is an R package designed for QC, analysis, and exploration of single-cell RNA-seq data."
   ]
  },
  {
   "cell_type": "code",
   "execution_count": 5,
   "metadata": {},
   "outputs": [
    {
     "name": "stdout",
     "output_type": "stream",
     "text": [
      "Formal class 'Seurat' [package \"Seurat\"] with 13 slots\n"
     ]
    },
    {
     "name": "stderr",
     "output_type": "stream",
     "text": [
      "Warning message:\n",
      "\"Not a validObject(): no slot of name \"images\" for this object of class \"Seurat\"\"\n"
     ]
    },
    {
     "name": "stdout",
     "output_type": "stream",
     "text": [
      "  ..@ assays      :List of 2\n",
      "  .. ..$ RNA :Formal class 'Assay' [package \"Seurat\"] with 8 slots\n",
      "  .. .. .. ..@ counts       :Formal class 'dgCMatrix' [package \"Matrix\"] with 6 slots\n",
      "  .. .. .. .. .. ..@ i       : int [1:23508033] 9 36 41 47 72 91 95 107 127 129 ...\n",
      "  .. .. .. .. .. ..@ p       : int [1:11910] 0 3308 5204 8108 8954 11236 12589 15650 17341 20369 ...\n",
      "  .. .. .. .. .. ..@ Dim     : int [1:2] 29732 11909\n",
      "  .. .. .. .. .. ..@ Dimnames:List of 2\n",
      "  .. .. .. .. .. .. ..$ : chr [1:29732] \"AL627309.1\" \"AL627309.2\" \"AL627309.5\" \"AL627309.4\" ...\n",
      "  .. .. .. .. .. .. ..$ : chr [1:11909] \"AAACAGCCAAGGAATC\" \"AAACAGCCAATCCCTT\" \"AAACAGCCAATGCGCT\" \"AAACAGCCACACTAAT\" ...\n",
      "  .. .. .. .. .. ..@ x       : num [1:23508033] 1 1 1 1 1 1 1 1 1 6 ...\n",
      "  .. .. .. .. .. ..@ factors : list()\n",
      "  .. .. .. ..@ data         :Formal class 'dgCMatrix' [package \"Matrix\"] with 6 slots\n",
      "  .. .. .. .. .. ..@ i       : int [1:23508033] 9 36 41 47 72 91 95 107 127 129 ...\n",
      "  .. .. .. .. .. ..@ p       : int [1:11910] 0 3308 5204 8108 8954 11236 12589 15650 17341 20369 ...\n",
      "  .. .. .. .. .. ..@ Dim     : int [1:2] 29732 11909\n",
      "  .. .. .. .. .. ..@ Dimnames:List of 2\n",
      "  .. .. .. .. .. .. ..$ : chr [1:29732] \"AL627309.1\" \"AL627309.2\" \"AL627309.5\" \"AL627309.4\" ...\n",
      "  .. .. .. .. .. .. ..$ : chr [1:11909] \"AAACAGCCAAGGAATC\" \"AAACAGCCAATCCCTT\" \"AAACAGCCAATGCGCT\" \"AAACAGCCACACTAAT\" ...\n",
      "  .. .. .. .. .. ..@ x       : num [1:23508033] 1 1 1 1 1 1 1 1 1 6 ...\n",
      "  .. .. .. .. .. ..@ factors : list()\n",
      "  .. .. .. ..@ scale.data   : num[0 , 0 ] \n",
      "  .. .. .. ..@ key          : chr \"rna_\"\n",
      "  .. .. .. ..@ assay.orig   : NULL\n",
      "  .. .. .. ..@ var.features : logi(0) \n",
      "  .. .. .. ..@ meta.features:'data.frame':\t29732 obs. of  0 variables\n",
      "  .. .. .. ..@ misc         : NULL\n",
      "  .. ..$ ATAC:Formal class 'Assay' [package \"Seurat\"] with 8 slots\n",
      "  .. .. .. ..@ counts       :Formal class 'dgCMatrix' [package \"Matrix\"] with 6 slots\n",
      "  .. .. .. .. .. ..@ i       : int [1:85596796] 12 16 25 27 28 30 34 37 38 39 ...\n",
      "  .. .. .. .. .. ..@ p       : int [1:11910] 0 13878 21131 27659 28565 31888 36155 47788 55033 63635 ...\n",
      "  .. .. .. .. .. ..@ Dim     : int [1:2] 108377 11909\n",
      "  .. .. .. .. .. ..@ Dimnames:List of 2\n",
      "  .. .. .. .. .. .. ..$ : chr [1:108377] \"chr1:10109-10357\" \"chr1:180730-181630\" \"chr1:191491-191736\" \"chr1:267816-268196\" ...\n",
      "  .. .. .. .. .. .. ..$ : chr [1:11909] \"AAACAGCCAAGGAATC\" \"AAACAGCCAATCCCTT\" \"AAACAGCCAATGCGCT\" \"AAACAGCCACACTAAT\" ...\n",
      "  .. .. .. .. .. ..@ x       : num [1:85596796] 1 2 2 2 2 2 4 6 8 10 ...\n",
      "  .. .. .. .. .. ..@ factors : list()\n",
      "  .. .. .. ..@ data         :Formal class 'dgCMatrix' [package \"Matrix\"] with 6 slots\n",
      "  .. .. .. .. .. ..@ i       : int [1:85596796] 12 16 25 27 28 30 34 37 38 39 ...\n",
      "  .. .. .. .. .. ..@ p       : int [1:11910] 0 13878 21131 27659 28565 31888 36155 47788 55033 63635 ...\n",
      "  .. .. .. .. .. ..@ Dim     : int [1:2] 108377 11909\n",
      "  .. .. .. .. .. ..@ Dimnames:List of 2\n",
      "  .. .. .. .. .. .. ..$ : chr [1:108377] \"chr1:10109-10357\" \"chr1:180730-181630\" \"chr1:191491-191736\" \"chr1:267816-268196\" ...\n",
      "  .. .. .. .. .. .. ..$ : chr [1:11909] \"AAACAGCCAAGGAATC\" \"AAACAGCCAATCCCTT\" \"AAACAGCCAATGCGCT\" \"AAACAGCCACACTAAT\" ...\n",
      "  .. .. .. .. .. ..@ x       : num [1:85596796] 1 2 2 2 2 2 4 6 8 10 ...\n",
      "  .. .. .. .. .. ..@ factors : list()\n",
      "  .. .. .. ..@ scale.data   : num[0 , 0 ] \n",
      "  .. .. .. ..@ key          : chr \"atac_\"\n",
      "  .. .. .. ..@ assay.orig   : NULL\n",
      "  .. .. .. ..@ var.features : logi(0) \n",
      "  .. .. .. ..@ meta.features:'data.frame':\t108377 obs. of  0 variables\n",
      "  .. .. .. ..@ misc         : NULL\n",
      "  ..@ meta.data   :'data.frame':\t11909 obs. of  9 variables:\n",
      "  .. ..$ orig.ident    : Factor w/ 1 level \"scRNA+scATAC PBMC\": 1 1 1 1 1 1 1 1 1 1 ...\n",
      "  .. ..$ nCount_RNA    : num [1:11909] 8380 3771 6876 1733 5415 ...\n",
      "  .. ..$ nFeature_RNA  : int [1:11909] 3308 1896 2904 846 2282 1353 3061 1691 3028 1783 ...\n",
      "  .. ..$ nCount_ATAC   : num [1:11909] 55582 20495 16674 2007 7658 ...\n",
      "  .. ..$ nFeature_ATAC : int [1:11909] 13878 7253 6528 906 3323 4267 11633 7245 8602 7719 ...\n",
      "  .. ..$ celltype      : chr [1:11909] \"naive CD4 T cells\" \"memory CD4 T cells\" \"naive CD4 T cells\" NA ...\n",
      "  .. ..$ pass_rnaQC    : logi [1:11909] TRUE TRUE TRUE FALSE FALSE FALSE ...\n",
      "  .. ..$ pass_accQC    : logi [1:11909] TRUE TRUE TRUE FALSE FALSE FALSE ...\n",
      "  .. ..$ broad_celltype: chr [1:11909] \"Lymphoid\" \"Lymphoid\" \"Lymphoid\" NA ...\n",
      "  ..@ active.assay: chr \"RNA\"\n",
      "  ..@ active.ident: Factor w/ 1 level \"scRNA+scATAC PBMC\": 1 1 1 1 1 1 1 1 1 1 ...\n",
      "  .. ..- attr(*, \"names\")= chr [1:11909] \"AAACAGCCAAGGAATC\" \"AAACAGCCAATCCCTT\" \"AAACAGCCAATGCGCT\" \"AAACAGCCACACTAAT\" ...\n",
      "  ..@ graphs      : list()\n",
      "  ..@ neighbors   : list()\n",
      "  ..@ reductions  : list()\n",
      "  ..@ project.name: chr \"scRNA+scATAC PBMC\"\n",
      "  ..@ misc        : list()\n",
      "  ..@ version     :Classes 'package_version', 'numeric_version'  hidden list of 1\n",
      "  .. ..$ : int [1:3] 3 1 4\n",
      "  ..@ commands    : list()\n",
      "  ..@ tools       : list()\n",
      "  ..@ NA          : NULL\n"
     ]
    }
   ],
   "source": [
    "str(seurat)"
   ]
  },
  {
   "cell_type": "code",
   "execution_count": 11,
   "metadata": {},
   "outputs": [
    {
     "data": {
      "text/html": [
       "<table>\n",
       "<caption>A data.frame: 1 × 9</caption>\n",
       "<thead>\n",
       "\t<tr><th></th><th scope=col>orig.ident</th><th scope=col>nCount_RNA</th><th scope=col>nFeature_RNA</th><th scope=col>nCount_ATAC</th><th scope=col>nFeature_ATAC</th><th scope=col>celltype</th><th scope=col>pass_rnaQC</th><th scope=col>pass_accQC</th><th scope=col>broad_celltype</th></tr>\n",
       "\t<tr><th></th><th scope=col>&lt;fct&gt;</th><th scope=col>&lt;dbl&gt;</th><th scope=col>&lt;int&gt;</th><th scope=col>&lt;dbl&gt;</th><th scope=col>&lt;int&gt;</th><th scope=col>&lt;chr&gt;</th><th scope=col>&lt;lgl&gt;</th><th scope=col>&lt;lgl&gt;</th><th scope=col>&lt;chr&gt;</th></tr>\n",
       "</thead>\n",
       "<tbody>\n",
       "\t<tr><th scope=row>AAACAGCCAAGGAATC</th><td>scRNA+scATAC PBMC</td><td>8380</td><td>3308</td><td>55582</td><td>13878</td><td>naive CD4 T cells</td><td>TRUE</td><td>TRUE</td><td>Lymphoid</td></tr>\n",
       "</tbody>\n",
       "</table>\n"
      ],
      "text/latex": [
       "A data.frame: 1 × 9\n",
       "\\begin{tabular}{r|lllllllll}\n",
       "  & orig.ident & nCount\\_RNA & nFeature\\_RNA & nCount\\_ATAC & nFeature\\_ATAC & celltype & pass\\_rnaQC & pass\\_accQC & broad\\_celltype\\\\\n",
       "  & <fct> & <dbl> & <int> & <dbl> & <int> & <chr> & <lgl> & <lgl> & <chr>\\\\\n",
       "\\hline\n",
       "\tAAACAGCCAAGGAATC & scRNA+scATAC PBMC & 8380 & 3308 & 55582 & 13878 & naive CD4 T cells & TRUE & TRUE & Lymphoid\\\\\n",
       "\\end{tabular}\n"
      ],
      "text/markdown": [
       "\n",
       "A data.frame: 1 × 9\n",
       "\n",
       "| <!--/--> | orig.ident &lt;fct&gt; | nCount_RNA &lt;dbl&gt; | nFeature_RNA &lt;int&gt; | nCount_ATAC &lt;dbl&gt; | nFeature_ATAC &lt;int&gt; | celltype &lt;chr&gt; | pass_rnaQC &lt;lgl&gt; | pass_accQC &lt;lgl&gt; | broad_celltype &lt;chr&gt; |\n",
       "|---|---|---|---|---|---|---|---|---|---|\n",
       "| AAACAGCCAAGGAATC | scRNA+scATAC PBMC | 8380 | 3308 | 55582 | 13878 | naive CD4 T cells | TRUE | TRUE | Lymphoid |\n",
       "\n"
      ],
      "text/plain": [
       "                 orig.ident        nCount_RNA nFeature_RNA nCount_ATAC\n",
       "AAACAGCCAAGGAATC scRNA+scATAC PBMC 8380       3308         55582      \n",
       "                 nFeature_ATAC celltype          pass_rnaQC pass_accQC\n",
       "AAACAGCCAAGGAATC 13878         naive CD4 T cells TRUE       TRUE      \n",
       "                 broad_celltype\n",
       "AAACAGCCAAGGAATC Lymphoid      "
      ]
     },
     "metadata": {},
     "output_type": "display_data"
    },
    {
     "data": {
      "text/html": [
       "<table>\n",
       "<caption>A data.frame: 1 × 4</caption>\n",
       "<thead>\n",
       "\t<tr><th></th><th scope=col>celltype</th><th scope=col>broad_celltype</th><th scope=col>pass_rnaQC</th><th scope=col>pass_accQC</th></tr>\n",
       "\t<tr><th></th><th scope=col>&lt;chr&gt;</th><th scope=col>&lt;chr&gt;</th><th scope=col>&lt;lgl&gt;</th><th scope=col>&lt;lgl&gt;</th></tr>\n",
       "</thead>\n",
       "<tbody>\n",
       "\t<tr><th scope=row>AAACAGCCAAGGAATC</th><td>naive CD4 T cells</td><td>Lymphoid</td><td>TRUE</td><td>TRUE</td></tr>\n",
       "</tbody>\n",
       "</table>\n"
      ],
      "text/latex": [
       "A data.frame: 1 × 4\n",
       "\\begin{tabular}{r|llll}\n",
       "  & celltype & broad\\_celltype & pass\\_rnaQC & pass\\_accQC\\\\\n",
       "  & <chr> & <chr> & <lgl> & <lgl>\\\\\n",
       "\\hline\n",
       "\tAAACAGCCAAGGAATC & naive CD4 T cells & Lymphoid & TRUE & TRUE\\\\\n",
       "\\end{tabular}\n"
      ],
      "text/markdown": [
       "\n",
       "A data.frame: 1 × 4\n",
       "\n",
       "| <!--/--> | celltype &lt;chr&gt; | broad_celltype &lt;chr&gt; | pass_rnaQC &lt;lgl&gt; | pass_accQC &lt;lgl&gt; |\n",
       "|---|---|---|---|---|\n",
       "| AAACAGCCAAGGAATC | naive CD4 T cells | Lymphoid | TRUE | TRUE |\n",
       "\n"
      ],
      "text/plain": [
       "                 celltype          broad_celltype pass_rnaQC pass_accQC\n",
       "AAACAGCCAAGGAATC naive CD4 T cells Lymphoid       TRUE       TRUE      "
      ]
     },
     "metadata": {},
     "output_type": "display_data"
    },
    {
     "data": {
      "text/plain": [
       "\n",
       " CD56 (bright) NK cells     CD56 (dim) NK cells     classical monocytes \n",
       "                    407                     472                    1929 \n",
       "   effector CD8 T cells  intermediate monocytes            MAIT T cells \n",
       "                    385                     664                     106 \n",
       "         memory B cells      memory CD4 T cells              myeloid DC \n",
       "                    420                    1611                     242 \n",
       "          naive B cells       naive CD4 T cells       naive CD8 T cells \n",
       "                    295                    1462                    1549 \n",
       "non-classical monocytes         plasmacytoid DC \n",
       "                    383                     107 "
      ]
     },
     "metadata": {},
     "output_type": "display_data"
    },
    {
     "data": {
      "text/plain": [
       "\n",
       "Lymphoid  Myeloid \n",
       "    6814     3218 "
      ]
     },
     "metadata": {},
     "output_type": "display_data"
    }
   ],
   "source": [
    "head (seurat@meta.data, 1)\n",
    "head(seurat@meta.data[,c(\"celltype\",\"broad_celltype\",\"pass_rnaQC\",\"pass_accQC\")], 1)\n",
    "table(seurat@meta.data$celltype)\n",
    "table(seurat@meta.data$broad_celltype)"
   ]
  },
  {
   "cell_type": "markdown",
   "metadata": {},
   "source": [
    "### filter low quality data"
   ]
  },
  {
   "cell_type": "code",
   "execution_count": 5,
   "metadata": {},
   "outputs": [
    {
     "data": {
      "text/plain": [
       "An object of class Seurat \n",
       "138109 features across 11909 samples within 2 assays \n",
       "Active assay: RNA (29732 features, 0 variable features)\n",
       " 1 other assay present: ATAC"
      ]
     },
     "metadata": {},
     "output_type": "display_data"
    },
    {
     "data": {
      "text/plain": [
       "An object of class Seurat \n",
       "138109 features across 10032 samples within 2 assays \n",
       "Active assay: RNA (29732 features, 0 variable features)\n",
       " 1 other assay present: ATAC"
      ]
     },
     "metadata": {},
     "output_type": "display_data"
    }
   ],
   "source": [
    "seurat\n",
    "seurat <- seurat %>%\n",
    "  .[,seurat@meta.data$pass_accQC==TRUE & seurat@meta.data$pass_rnaQC==TRUE]  # filter data\n",
    "seurat"
   ]
  },
  {
   "cell_type": "code",
   "execution_count": 14,
   "metadata": {
    "scrolled": true
   },
   "outputs": [
    {
     "data": {
      "text/plain": [
       "Assay data with 29732 features for 11909 cells\n",
       "First 10 features:\n",
       " AL627309.1, AL627309.2, AL627309.5, AL627309.4, AP006222.2, AL669831.2,\n",
       "LINC01409, FAM87B, LINC01128, LINC00115 "
      ]
     },
     "metadata": {},
     "output_type": "display_data"
    },
    {
     "data": {
      "text/plain": [
       "Assay data with 108377 features for 11909 cells\n",
       "First 10 features:\n",
       " chr1:10109-10357, chr1:180730-181630, chr1:191491-191736,\n",
       "chr1:267816-268196, chr1:586028-586373, chr1:629721-630172,\n",
       "chr1:633793-634264, chr1:777634-779926, chr1:816881-817647,\n",
       "chr1:819912-823500 "
      ]
     },
     "metadata": {},
     "output_type": "display_data"
    }
   ],
   "source": [
    "seurat@assays$RNA\n",
    "seurat@assays$ATAC"
   ]
  },
  {
   "cell_type": "markdown",
   "metadata": {},
   "source": [
    "### Load and attach metadata"
   ]
  },
  {
   "cell_type": "code",
   "execution_count": 15,
   "metadata": {},
   "outputs": [],
   "source": [
    "feature_metadata <- fread(\"ftp://ftp.ebi.ac.uk/pub/databases/mofa/10x_rna_atac_vignette/filtered_feature_bc_matrix/features.tsv.gz\") %>%\n",
    "  setnames(c(\"ens_id\",\"gene\",\"view\",\"chr\",\"start\",\"end\"))"
   ]
  },
  {
   "cell_type": "code",
   "execution_count": 16,
   "metadata": {},
   "outputs": [
    {
     "data": {
      "text/html": [
       "<table>\n",
       "<caption>A data.table: 3 × 6</caption>\n",
       "<thead>\n",
       "\t<tr><th scope=col>ens_id</th><th scope=col>gene</th><th scope=col>view</th><th scope=col>chr</th><th scope=col>start</th><th scope=col>end</th></tr>\n",
       "\t<tr><th scope=col>&lt;chr&gt;</th><th scope=col>&lt;chr&gt;</th><th scope=col>&lt;chr&gt;</th><th scope=col>&lt;chr&gt;</th><th scope=col>&lt;int&gt;</th><th scope=col>&lt;int&gt;</th></tr>\n",
       "</thead>\n",
       "<tbody>\n",
       "\t<tr><td>ENSG00000243485</td><td>MIR1302-2HG</td><td>Gene Expression</td><td>chr1</td><td>29553</td><td>30267</td></tr>\n",
       "\t<tr><td>ENSG00000237613</td><td>FAM138A    </td><td>Gene Expression</td><td>chr1</td><td>36080</td><td>36081</td></tr>\n",
       "\t<tr><td>ENSG00000186092</td><td>OR4F5      </td><td>Gene Expression</td><td>chr1</td><td>65418</td><td>69055</td></tr>\n",
       "</tbody>\n",
       "</table>\n"
      ],
      "text/latex": [
       "A data.table: 3 × 6\n",
       "\\begin{tabular}{llllll}\n",
       " ens\\_id & gene & view & chr & start & end\\\\\n",
       " <chr> & <chr> & <chr> & <chr> & <int> & <int>\\\\\n",
       "\\hline\n",
       "\t ENSG00000243485 & MIR1302-2HG & Gene Expression & chr1 & 29553 & 30267\\\\\n",
       "\t ENSG00000237613 & FAM138A     & Gene Expression & chr1 & 36080 & 36081\\\\\n",
       "\t ENSG00000186092 & OR4F5       & Gene Expression & chr1 & 65418 & 69055\\\\\n",
       "\\end{tabular}\n"
      ],
      "text/markdown": [
       "\n",
       "A data.table: 3 × 6\n",
       "\n",
       "| ens_id &lt;chr&gt; | gene &lt;chr&gt; | view &lt;chr&gt; | chr &lt;chr&gt; | start &lt;int&gt; | end &lt;int&gt; |\n",
       "|---|---|---|---|---|---|\n",
       "| ENSG00000243485 | MIR1302-2HG | Gene Expression | chr1 | 29553 | 30267 |\n",
       "| ENSG00000237613 | FAM138A     | Gene Expression | chr1 | 36080 | 36081 |\n",
       "| ENSG00000186092 | OR4F5       | Gene Expression | chr1 | 65418 | 69055 |\n",
       "\n"
      ],
      "text/plain": [
       "  ens_id          gene        view            chr  start end  \n",
       "1 ENSG00000243485 MIR1302-2HG Gene Expression chr1 29553 30267\n",
       "2 ENSG00000237613 FAM138A     Gene Expression chr1 36080 36081\n",
       "3 ENSG00000186092 OR4F5       Gene Expression chr1 65418 69055"
      ]
     },
     "metadata": {},
     "output_type": "display_data"
    }
   ],
   "source": [
    "feature_metadata.rna <- feature_metadata[view==\"Gene Expression\"]\n",
    "head(feature_metadata.rna,n=3)"
   ]
  },
  {
   "cell_type": "code",
   "execution_count": 17,
   "metadata": {},
   "outputs": [
    {
     "data": {
      "text/html": [
       "<table>\n",
       "<caption>A data.table: 3 × 5</caption>\n",
       "<thead>\n",
       "\t<tr><th scope=col>peak</th><th scope=col>view</th><th scope=col>chr</th><th scope=col>start</th><th scope=col>end</th></tr>\n",
       "\t<tr><th scope=col>&lt;chr&gt;</th><th scope=col>&lt;chr&gt;</th><th scope=col>&lt;chr&gt;</th><th scope=col>&lt;int&gt;</th><th scope=col>&lt;int&gt;</th></tr>\n",
       "</thead>\n",
       "<tbody>\n",
       "\t<tr><td>chr1:10109-10357  </td><td>Peaks</td><td>chr1</td><td> 10109</td><td> 10357</td></tr>\n",
       "\t<tr><td>chr1:180730-181630</td><td>Peaks</td><td>chr1</td><td>180730</td><td>181630</td></tr>\n",
       "\t<tr><td>chr1:191491-191736</td><td>Peaks</td><td>chr1</td><td>191491</td><td>191736</td></tr>\n",
       "</tbody>\n",
       "</table>\n"
      ],
      "text/latex": [
       "A data.table: 3 × 5\n",
       "\\begin{tabular}{lllll}\n",
       " peak & view & chr & start & end\\\\\n",
       " <chr> & <chr> & <chr> & <int> & <int>\\\\\n",
       "\\hline\n",
       "\t chr1:10109-10357   & Peaks & chr1 &  10109 &  10357\\\\\n",
       "\t chr1:180730-181630 & Peaks & chr1 & 180730 & 181630\\\\\n",
       "\t chr1:191491-191736 & Peaks & chr1 & 191491 & 191736\\\\\n",
       "\\end{tabular}\n"
      ],
      "text/markdown": [
       "\n",
       "A data.table: 3 × 5\n",
       "\n",
       "| peak &lt;chr&gt; | view &lt;chr&gt; | chr &lt;chr&gt; | start &lt;int&gt; | end &lt;int&gt; |\n",
       "|---|---|---|---|---|\n",
       "| chr1:10109-10357   | Peaks | chr1 |  10109 |  10357 |\n",
       "| chr1:180730-181630 | Peaks | chr1 | 180730 | 181630 |\n",
       "| chr1:191491-191736 | Peaks | chr1 | 191491 | 191736 |\n",
       "\n"
      ],
      "text/plain": [
       "  peak               view  chr  start  end   \n",
       "1 chr1:10109-10357   Peaks chr1  10109  10357\n",
       "2 chr1:180730-181630 Peaks chr1 180730 181630\n",
       "3 chr1:191491-191736 Peaks chr1 191491 191736"
      ]
     },
     "metadata": {},
     "output_type": "display_data"
    },
    {
     "data": {
      "text/plain": [
       "\n",
       " Peaks \n",
       "108377 "
      ]
     },
     "metadata": {},
     "output_type": "display_data"
    }
   ],
   "source": [
    "feature_metadata.atac <-\n",
    "    feature_metadata[view==\"Peaks\"] %>%  # Filter Peaks\n",
    "    .[,ens_id:=NULL] %>%                 # Update their ens_i to NULL\n",
    "    setnames(\"gene\",\"peak\")              # rename column gene to peak\n",
    "head(feature_metadata.atac,n=3)\n",
    "table(feature_metadata.atac$view)"
   ]
  },
  {
   "cell_type": "code",
   "execution_count": 18,
   "metadata": {
    "scrolled": true
   },
   "outputs": [
    {
     "data": {
      "text/html": [
       "<table>\n",
       "<caption>A data.table: 3 × 6</caption>\n",
       "<thead>\n",
       "\t<tr><th scope=col>peak</th><th scope=col>view</th><th scope=col>chr</th><th scope=col>start</th><th scope=col>end</th><th scope=col>peak_type</th></tr>\n",
       "\t<tr><th scope=col>&lt;chr&gt;</th><th scope=col>&lt;chr&gt;</th><th scope=col>&lt;chr&gt;</th><th scope=col>&lt;int&gt;</th><th scope=col>&lt;int&gt;</th><th scope=col>&lt;chr&gt;</th></tr>\n",
       "</thead>\n",
       "<tbody>\n",
       "\t<tr><td>GL000194.1:101218-101619</td><td>Peaks</td><td>GL000194.1</td><td>101218</td><td>101619</td><td>distal  </td></tr>\n",
       "\t<tr><td>GL000194.1:114724-115221</td><td>Peaks</td><td>GL000194.1</td><td>114724</td><td>115221</td><td>promoter</td></tr>\n",
       "\t<tr><td>GL000194.1:28230-28519  </td><td>Peaks</td><td>GL000194.1</td><td> 28230</td><td> 28519</td><td>distal  </td></tr>\n",
       "</tbody>\n",
       "</table>\n"
      ],
      "text/latex": [
       "A data.table: 3 × 6\n",
       "\\begin{tabular}{llllll}\n",
       " peak & view & chr & start & end & peak\\_type\\\\\n",
       " <chr> & <chr> & <chr> & <int> & <int> & <chr>\\\\\n",
       "\\hline\n",
       "\t GL000194.1:101218-101619 & Peaks & GL000194.1 & 101218 & 101619 & distal  \\\\\n",
       "\t GL000194.1:114724-115221 & Peaks & GL000194.1 & 114724 & 115221 & promoter\\\\\n",
       "\t GL000194.1:28230-28519   & Peaks & GL000194.1 &  28230 &  28519 & distal  \\\\\n",
       "\\end{tabular}\n"
      ],
      "text/markdown": [
       "\n",
       "A data.table: 3 × 6\n",
       "\n",
       "| peak &lt;chr&gt; | view &lt;chr&gt; | chr &lt;chr&gt; | start &lt;int&gt; | end &lt;int&gt; | peak_type &lt;chr&gt; |\n",
       "|---|---|---|---|---|---|\n",
       "| GL000194.1:101218-101619 | Peaks | GL000194.1 | 101218 | 101619 | distal   |\n",
       "| GL000194.1:114724-115221 | Peaks | GL000194.1 | 114724 | 115221 | promoter |\n",
       "| GL000194.1:28230-28519   | Peaks | GL000194.1 |  28230 |  28519 | distal   |\n",
       "\n"
      ],
      "text/plain": [
       "  peak                     view  chr        start  end    peak_type\n",
       "1 GL000194.1:101218-101619 Peaks GL000194.1 101218 101619 distal   \n",
       "2 GL000194.1:114724-115221 Peaks GL000194.1 114724 115221 promoter \n",
       "3 GL000194.1:28230-28519   Peaks GL000194.1  28230  28519 distal   "
      ]
     },
     "metadata": {},
     "output_type": "display_data"
    },
    {
     "data": {
      "text/plain": [
       "\n",
       "  distal promoter \n",
       "   91822    16074 "
      ]
     },
     "metadata": {},
     "output_type": "display_data"
    },
    {
     "data": {
      "text/plain": [
       "\n",
       " Peaks \n",
       "108377 "
      ]
     },
     "metadata": {},
     "output_type": "display_data"
    }
   ],
   "source": [
    "foo <- fread(\"ftp://ftp.ebi.ac.uk/pub/databases/mofa/10x_rna_atac_vignette/atac_peak_annotation.tsv\") %>%\n",
    "  .[,c(\"peak\",\"peak_type\")] %>%\n",
    "  .[peak_type%in%c(\"distal\", \"promoter\")]\n",
    "\n",
    "feature_metadata.atac <- feature_metadata.atac %>% \n",
    "  merge(foo,by=\"peak\",all.x=TRUE)\n",
    "\n",
    "head(feature_metadata.atac, n=3)\n",
    "\n",
    "table(feature_metadata.atac$peak_type)\n",
    "table(feature_metadata.atac$view)"
   ]
  },
  {
   "cell_type": "markdown",
   "metadata": {},
   "source": [
    "### create motif matrix\n",
    "[Create motif matrix](https://satijalab.org/signac/reference/CreateMotifMatrix.html)"
   ]
  },
  {
   "cell_type": "code",
   "execution_count": 19,
   "metadata": {},
   "outputs": [
    {
     "data": {
      "text/plain": [
       "PFMatrixList of length 633\n",
       "names(633): MA0030.1 MA0031.1 MA0051.1 MA0057.1 ... MA0748.2 MA0528.2 MA0609.2"
      ]
     },
     "metadata": {},
     "output_type": "display_data"
    }
   ],
   "source": [
    "pfm <- getMatrixSet(\n",
    "  x = JASPAR2020,\n",
    "  opts = list(species = \"9606\", all_versions = FALSE, matrixtype = \"PFM\")  ## matrixtype = \"PWM\" is also fine for our purposes\n",
    ")\n",
    "pfm"
   ]
  },
  {
   "cell_type": "markdown",
   "metadata": {},
   "source": [
    "#### know thy data"
   ]
  },
  {
   "cell_type": "code",
   "execution_count": 15,
   "metadata": {},
   "outputs": [
    {
     "data": {
      "text/plain": [
       "An object of class PFMatrix\n",
       "ID: MA0030.1\n",
       "Name: FOXF2\n",
       "Matrix Class: Fork head / winged helix factors\n",
       "strand: +\n",
       "Tags: \n",
       "$alias\n",
       "[1] \"FREAC2\"\n",
       "\n",
       "$description\n",
       "[1] \"forkhead box F2\"\n",
       "\n",
       "$family\n",
       "[1] \"Forkhead box (FOX) factors\"\n",
       "\n",
       "$medline\n",
       "[1] \"7957066\"\n",
       "\n",
       "$symbol\n",
       "[1] \"FOXF2\"\n",
       "\n",
       "$tax_group\n",
       "[1] \"vertebrates\"\n",
       "\n",
       "$tfbs_shape_id\n",
       "[1] \"37\"\n",
       "\n",
       "$type\n",
       "[1] \"SELEX\"\n",
       "\n",
       "$collection\n",
       "[1] \"CORE\"\n",
       "\n",
       "$species\n",
       "          9606 \n",
       "\"Homo sapiens\" \n",
       "\n",
       "$acc\n",
       "[1] \"Q12947\"\n",
       "\n",
       "Background: \n",
       "   A    C    G    T \n",
       "0.25 0.25 0.25 0.25 \n",
       "Matrix: \n",
       "  [,1] [,2] [,3] [,4] [,5] [,6] [,7] [,8] [,9] [,10] [,11] [,12] [,13] [,14]\n",
       "A    1   10   17   13    3    7    0   27   27    27     0    27    16     7\n",
       "C   10    7    4    5   11    0    0    0    0     0    25     0     4     4\n",
       "G    7    5    2    5    8   20    0    0    0     0     0     0     2     6\n",
       "T    9    5    4    5    0    0   27    0    0     0     2     0     5    10"
      ]
     },
     "metadata": {},
     "output_type": "display_data"
    }
   ],
   "source": [
    "pfm$`MA0030.1`"
   ]
  },
  {
   "cell_type": "code",
   "execution_count": 16,
   "metadata": {},
   "outputs": [
    {
     "data": {
      "text/plain": [
       "182439-letter DNAString object\n",
       "seq: \u001b[48;5;157m\u001b[30mC\u001b[39m\u001b[49m\u001b[48;5;223m\u001b[30mT\u001b[39m\u001b[49m\u001b[48;5;217m\u001b[30mA\u001b[39m\u001b[49m\u001b[48;5;223m\u001b[30mT\u001b[39m\u001b[49m\u001b[48;5;217m\u001b[30mA\u001b[39m\u001b[49m\u001b[48;5;217m\u001b[30mA\u001b[39m\u001b[49m\u001b[48;5;223m\u001b[30mT\u001b[39m\u001b[49m\u001b[48;5;157m\u001b[30mC\u001b[39m\u001b[49m\u001b[48;5;157m\u001b[30mC\u001b[39m\u001b[49m\u001b[48;5;157m\u001b[30mC\u001b[39m\u001b[49m\u001b[48;5;217m\u001b[30mA\u001b[39m\u001b[49m\u001b[48;5;159m\u001b[30mG\u001b[39m\u001b[49m\u001b[48;5;157m\u001b[30mC\u001b[39m\u001b[49m\u001b[48;5;223m\u001b[30mT\u001b[39m\u001b[49m\u001b[48;5;223m\u001b[30mT\u001b[39m\u001b[49m\u001b[48;5;159m\u001b[30mG\u001b[39m\u001b[49m\u001b[48;5;223m\u001b[30mT\u001b[39m\u001b[49m\u001b[48;5;223m\u001b[30mT\u001b[39m\u001b[49m\u001b[48;5;159m\u001b[30mG\u001b[39m\u001b[49m\u001b[48;5;159m\u001b[30mG\u001b[39m\u001b[49m\u001b[48;5;159m\u001b[30mG\u001b[39m\u001b[49m\u001b[48;5;217m\u001b[30mA\u001b[39m\u001b[49m\u001b[48;5;159m\u001b[30mG\u001b[39m\u001b[49m\u001b[48;5;159m\u001b[30mG\u001b[39m\u001b[49m\u001b[48;5;157m\u001b[30mC\u001b[39m\u001b[49m\u001b[48;5;157m\u001b[30mC\u001b[39m\u001b[49m\u001b[48;5;217m\u001b[30mA\u001b[39m\u001b[49m\u001b[48;5;217m\u001b[30mA\u001b[39m\u001b[49m\u001b[48;5;159m\u001b[30mG\u001b[39m\u001b[49m\u001b[48;5;159m\u001b[30mG\u001b[39m\u001b[49m\u001b[48;5;157m\u001b[30mC\u001b[39m\u001b[49m\u001b[48;5;217m\u001b[30mA\u001b[39m\u001b[49m\u001b[48;5;159m\u001b[30mG\u001b[39m\u001b[49m\u001b[48;5;159m\u001b[30mG\u001b[39m\u001b[49m\u001b[48;5;217m\u001b[30mA\u001b[39m\u001b[49m\u001b[48;5;159m\u001b[30mG\u001b[39m\u001b[49m...\u001b[48;5;223m\u001b[30mT\u001b[39m\u001b[49m\u001b[48;5;217m\u001b[30mA\u001b[39m\u001b[49m\u001b[48;5;217m\u001b[30mA\u001b[39m\u001b[49m\u001b[48;5;223m\u001b[30mT\u001b[39m\u001b[49m\u001b[48;5;157m\u001b[30mC\u001b[39m\u001b[49m\u001b[48;5;217m\u001b[30mA\u001b[39m\u001b[49m\u001b[48;5;159m\u001b[30mG\u001b[39m\u001b[49m\u001b[48;5;217m\u001b[30mA\u001b[39m\u001b[49m\u001b[48;5;157m\u001b[30mC\u001b[39m\u001b[49m\u001b[48;5;223m\u001b[30mT\u001b[39m\u001b[49m\u001b[48;5;217m\u001b[30mA\u001b[39m\u001b[49m\u001b[48;5;217m\u001b[30mA\u001b[39m\u001b[49m\u001b[48;5;217m\u001b[30mA\u001b[39m\u001b[49m\u001b[48;5;217m\u001b[30mA\u001b[39m\u001b[49m\u001b[48;5;217m\u001b[30mA\u001b[39m\u001b[49m\u001b[48;5;223m\u001b[30mT\u001b[39m\u001b[49m\u001b[48;5;217m\u001b[30mA\u001b[39m\u001b[49m\u001b[48;5;157m\u001b[30mC\u001b[39m\u001b[49m\u001b[48;5;157m\u001b[30mC\u001b[39m\u001b[49m\u001b[48;5;217m\u001b[30mA\u001b[39m\u001b[49m\u001b[48;5;159m\u001b[30mG\u001b[39m\u001b[49m\u001b[48;5;217m\u001b[30mA\u001b[39m\u001b[49m\u001b[48;5;159m\u001b[30mG\u001b[39m\u001b[49m\u001b[48;5;159m\u001b[30mG\u001b[39m\u001b[49m\u001b[48;5;157m\u001b[30mC\u001b[39m\u001b[49m\u001b[48;5;217m\u001b[30mA\u001b[39m\u001b[49m\u001b[48;5;217m\u001b[30mA\u001b[39m\u001b[49m\u001b[48;5;223m\u001b[30mT\u001b[39m\u001b[49m\u001b[48;5;223m\u001b[30mT\u001b[39m\u001b[49m\u001b[48;5;223m\u001b[30mT\u001b[39m\u001b[49m\u001b[48;5;159m\u001b[30mG\u001b[39m\u001b[49m\u001b[48;5;217m\u001b[30mA\u001b[39m\u001b[49m\u001b[48;5;217m\u001b[30mA\u001b[39m\u001b[49m\u001b[48;5;223m\u001b[30mT\u001b[39m\u001b[49m\u001b[48;5;223m\u001b[30mT\u001b[39m\u001b[49m\u001b[48;5;157m\u001b[30mC\u001b[39m\u001b[49m"
      ]
     },
     "metadata": {},
     "output_type": "display_data"
    }
   ],
   "source": [
    "# BSgenome.Hsapiens.UCSC.hg38 contains full chromosomes and contigs.\n",
    "BSgenome.Hsapiens.UCSC.hg38$chr1_GL383518v1_alt\n"
   ]
  },
  {
   "cell_type": "markdown",
   "metadata": {},
   "source": [
    "### test creation of GRanges object"
   ]
  },
  {
   "cell_type": "code",
   "execution_count": 21,
   "metadata": {},
   "outputs": [],
   "source": [
    "peaks.granges <- feature_metadata.atac %>%\n",
    "    .[peak_type==\"distal\"] %>%\n",
    "    makeGRangesFromDataFrame(keep.extra.columns = TRUE, ignore.strand = TRUE)"
   ]
  },
  {
   "cell_type": "code",
   "execution_count": 22,
   "metadata": {},
   "outputs": [
    {
     "name": "stdout",
     "output_type": "stream",
     "text": [
      "Formal class 'GRanges' [package \"GenomicRanges\"] with 7 slots\n",
      "  ..@ seqnames       :Formal class 'Rle' [package \"S4Vectors\"] with 4 slots\n",
      "  .. .. ..@ values         : Factor w/ 31 levels \"chr1\",\"chr2\",..: 24 25 26 27 28 29 30 31 10 11 ...\n",
      "  .. .. ..@ lengths        : int [1:31] 3 2 6 10 6 1 1 1 4324 4380 ...\n",
      "  .. .. ..@ elementMetadata: NULL\n",
      "  .. .. ..@ metadata       : list()\n",
      "  ..@ ranges         :Formal class 'IRanges' [package \"IRanges\"] with 6 slots\n",
      "  .. .. ..@ start          : int [1:91822] 101218 28230 56140 24252 30140 140550 62326 67888 70583 87914 ...\n",
      "  .. .. ..@ width          : int [1:91822] 402 290 52 26 3216 466 2345 1742 286 370 ...\n",
      "  .. .. ..@ NAMES          : NULL\n",
      "  .. .. ..@ elementType    : chr \"ANY\"\n",
      "  .. .. ..@ elementMetadata: NULL\n",
      "  .. .. ..@ metadata       : list()\n",
      "  ..@ strand         :Formal class 'Rle' [package \"S4Vectors\"] with 4 slots\n",
      "  .. .. ..@ values         : Factor w/ 3 levels \"+\",\"-\",\"*\": 3\n",
      "  .. .. ..@ lengths        : int 91822\n",
      "  .. .. ..@ elementMetadata: NULL\n",
      "  .. .. ..@ metadata       : list()\n",
      "  ..@ seqinfo        :Formal class 'Seqinfo' [package \"GenomeInfoDb\"] with 4 slots\n",
      "  .. .. ..@ seqnames   : chr [1:31] \"chr1\" \"chr2\" \"chr3\" \"chr4\" ...\n",
      "  .. .. ..@ seqlengths : int [1:31] NA NA NA NA NA NA NA NA NA NA ...\n",
      "  .. .. ..@ is_circular: logi [1:31] NA NA NA NA NA NA ...\n",
      "  .. .. ..@ genome     : chr [1:31] NA NA NA NA ...\n",
      "  ..@ elementMetadata:Formal class 'DFrame' [package \"S4Vectors\"] with 6 slots\n",
      "  .. .. ..@ rownames       : NULL\n",
      "  .. .. ..@ nrows          : int 91822\n",
      "  .. .. ..@ listData       :List of 3\n",
      "  .. .. .. ..$ peak     : chr [1:91822] \"GL000194.1:101218-101619\" \"GL000194.1:28230-28519\" \"GL000194.1:56140-56191\" \"GL000195.1:24252-24277\" ...\n",
      "  .. .. .. ..$ view     : chr [1:91822] \"Peaks\" \"Peaks\" \"Peaks\" \"Peaks\" ...\n",
      "  .. .. .. ..$ peak_type: chr [1:91822] \"distal\" \"distal\" \"distal\" \"distal\" ...\n",
      "  .. .. ..@ elementType    : chr \"ANY\"\n",
      "  .. .. ..@ elementMetadata: NULL\n",
      "  .. .. ..@ metadata       : list()\n",
      "  ..@ elementType    : chr \"ANY\"\n",
      "  ..@ metadata       : list()\n"
     ]
    },
    {
     "data": {
      "text/plain": [
       "\n",
       "      chr1       chr2       chr3       chr4       chr5       chr6       chr7 \n",
       "      8861       7382       5877       3653       4587       5772       4475 \n",
       "      chr8       chr9      chr10      chr11      chr12      chr13      chr14 \n",
       "      3827       3731       4324       4380       4813       2079       3131 \n",
       "     chr15      chr16      chr17      chr18      chr19      chr20      chr21 \n",
       "      2994       3354       4805       1776       3751       2686       1177 \n",
       "     chr22       chrX GL000194.1 GL000195.1 GL000205.2 GL000219.1 KI270713.1 \n",
       "      2014       2343          3          2          6         10          6 \n",
       "KI270726.1 KI270727.1 KI270734.1 \n",
       "         1          1          1 "
      ]
     },
     "metadata": {},
     "output_type": "display_data"
    }
   ],
   "source": [
    "str(peaks.granges)\n",
    "table(peaks.granges@seqnames)"
   ]
  },
  {
   "cell_type": "markdown",
   "metadata": {},
   "source": [
    "### Remove unlocalized contigs"
   ]
  },
  {
   "cell_type": "code",
   "execution_count": 24,
   "metadata": {},
   "outputs": [
    {
     "data": {
      "text/plain": [
       "\n",
       " chr1  chr2  chr3  chr4  chr5  chr6  chr7  chr8  chr9 chr10 chr11 chr12 chr13 \n",
       " 8861  7382  5877  3653  4587  5772  4475  3827  3731  4324  4380  4813  2079 \n",
       "chr14 chr15 chr16 chr17 chr18 chr19 chr20 chr21 chr22  chrX \n",
       " 3131  2994  3354  4805  1776  3751  2686  1177  2014  2343 "
      ]
     },
     "metadata": {},
     "output_type": "display_data"
    }
   ],
   "source": [
    "peaks.granges <- keepStandardChromosomes(peaks.granges, pruning.mode=\"coarse\")\n",
    "table(peaks.granges@seqnames)"
   ]
  },
  {
   "cell_type": "markdown",
   "metadata": {},
   "source": [
    "### generate GRanges and motif matrix\n",
    "this step takes some time."
   ]
  },
  {
   "cell_type": "code",
   "execution_count": 25,
   "metadata": {},
   "outputs": [
    {
     "name": "stderr",
     "output_type": "stream",
     "text": [
      "Warning message in rownames(x = object) == rownames(x = new.data):\n",
      "\"longer object length is not a multiple of shorter object length\"\n",
      "Warning message in SetAssayData.ChromatinAssay(object = new.assay, slot = \"motifs\", :\n",
      "\"Features do not match in ChromatinAssay and Motif object.\n",
      "                Subsetting the Motif object.\"\n",
      "Warning message in rownames(x = object) == rownames(x = new.data):\n",
      "\"longer object length is not a multiple of shorter object length\"\n",
      "Warning message in SetAssayData.ChromatinAssay(object = new.assay, slot = \"motifs\", :\n",
      "\"Features do not match in ChromatinAssay and Motif object.\n",
      "                Subsetting the Motif object.\"\n"
     ]
    },
    {
     "data": {
      "text/plain": [
       "An object of class Seurat \n",
       "245458 features across 11909 samples within 4 assays \n",
       "Active assay: RNA (29732 features, 0 variable features)\n",
       " 3 other assays present: ATAC, ATAC_distal, ATAC_promoter"
      ]
     },
     "metadata": {},
     "output_type": "display_data"
    }
   ],
   "source": [
    "for (i in c(\"distal\",\"promoter\")) {\n",
    "  peaks.granges <- feature_metadata.atac %>%\n",
    "    .[peak_type==i] %>%\n",
    "    .[,c(\"chr\",\"start\",\"end\",\"peak\")] %>%\n",
    "    makeGRangesFromDataFrame(keep.extra.columns = TRUE, ignore.strand = TRUE)\n",
    "    \n",
    "  # prevents error due to different naming conventions of unlocalized contigs by removing them.\n",
    "  peaks.granges <- keepStandardChromosomes(peaks.granges, pruning.mode=\"coarse\")\n",
    "    \n",
    "  # Scan motifs throughout the DNA sequence of each peak and create a binary matrix of motif-peak presence.\n",
    "  motif.matrix <- Signac::CreateMotifMatrix(\n",
    "    features = peaks.granges,               # GRanges object containing a set of genomic features\n",
    "    pwm = pfm,                              # PFMatrixList/PWMatrixList object containing position weight/frequency matrices\n",
    "    genome = BSgenome.Hsapiens.UCSC.hg38,   # Object compatible with genome argument in motifmatchr::matchMotifs\n",
    "    use.counts = FALSE                      # default\n",
    "  ) %>% as.matrix\n",
    "  \n",
    "  # AddChromatinAssay to the Seurat object\n",
    "  seurat@assays[[paste0(\"ATAC_\",i)]] <- CreateChromatinAssay(\n",
    "    seurat@assays$ATAC@counts[peaks.granges$peak,], \n",
    "    ranges = peaks.granges,\n",
    "    motifs = CreateMotifObject(motif.matrix, pfm)\n",
    "  )\n",
    "  \n",
    "}\n",
    "# saveRDS(seurat, \"seurat_with_motif_matrix.rds\")\n",
    "seurat"
   ]
  },
  {
   "cell_type": "code",
   "execution_count": 4,
   "metadata": {},
   "outputs": [],
   "source": [
    "seurat <- readRDS('seurat_with_motif_matrix.rds')  # skip data prep."
   ]
  },
  {
   "cell_type": "code",
   "execution_count": 5,
   "metadata": {},
   "outputs": [
    {
     "name": "stderr",
     "output_type": "stream",
     "text": [
      "Centering data matrix\n",
      "\n"
     ]
    }
   ],
   "source": [
    "seurat <- NormalizeData(seurat, normalization.method = \"LogNormalize\", assay = \"RNA\")\n",
    "seurat <- ScaleData(seurat, do.center = TRUE, do.scale = FALSE)\n"
   ]
  },
  {
   "cell_type": "code",
   "execution_count": 6,
   "metadata": {},
   "outputs": [
    {
     "name": "stderr",
     "output_type": "stream",
     "text": [
      "Performing TF-IDF normalization\n",
      "\n",
      "Warning message:\n",
      "\"Keys should be one or more alphanumeric characters followed by an underscore, setting key from atac_distal_ to atacdistal_\"\n",
      "Performing TF-IDF normalization\n",
      "\n",
      "Warning message:\n",
      "\"Keys should be one or more alphanumeric characters followed by an underscore, setting key from atac_promoter_ to atacpromoter_\"\n"
     ]
    }
   ],
   "source": [
    "for (i in c(\"ATAC_distal\",\"ATAC_promoter\")) {\n",
    "  seurat <- RunTFIDF(seurat, assay = i)\n",
    "}"
   ]
  },
  {
   "cell_type": "code",
   "execution_count": 7,
   "metadata": {},
   "outputs": [],
   "source": [
    "seurat <- FindVariableFeatures(seurat, \n",
    "  selection.method = \"vst\", \n",
    "  nfeatures = 5000,\n",
    "  assay = \"RNA\",\n",
    "  verbose = FALSE\n",
    ")"
   ]
  },
  {
   "cell_type": "code",
   "execution_count": 8,
   "metadata": {},
   "outputs": [
    {
     "name": "stdout",
     "output_type": "stream",
     "text": [
      "[1] 10721\n",
      "[1] 11646\n"
     ]
    }
   ],
   "source": [
    "for (i in c(\"ATAC_distal\",\"ATAC_promoter\")) {\n",
    "  seurat <- FindTopFeatures(seurat, assay=i, min.cutoff = 2000)\n",
    "  print(length(seurat[[i]]@var.features))\n",
    "}"
   ]
  },
  {
   "cell_type": "markdown",
   "metadata": {},
   "source": [
    "### save prepped data before proceeding to next step"
   ]
  },
  {
   "cell_type": "code",
   "execution_count": 9,
   "metadata": {},
   "outputs": [],
   "source": [
    "saveRDS(seurat, \"seurat_prepped.rds\")"
   ]
  },
  {
   "cell_type": "markdown",
   "metadata": {},
   "source": [
    "### clear memory, because jupyter kept crashing in next steps"
   ]
  },
  {
   "cell_type": "code",
   "execution_count": 10,
   "metadata": {},
   "outputs": [
    {
     "name": "stderr",
     "output_type": "stream",
     "text": [
      "Warning message:\n",
      "\"'memory.size()' is Windows-specific\"\n"
     ]
    },
    {
     "data": {
      "text/html": [
       "Inf"
      ],
      "text/latex": [
       "Inf"
      ],
      "text/markdown": [
       "Inf"
      ],
      "text/plain": [
       "[1] Inf"
      ]
     },
     "metadata": {},
     "output_type": "display_data"
    },
    {
     "data": {
      "text/html": [
       "<table>\n",
       "<caption>A matrix: 2 × 6 of type dbl</caption>\n",
       "<thead>\n",
       "\t<tr><th></th><th scope=col>used</th><th scope=col>(Mb)</th><th scope=col>gc trigger</th><th scope=col>(Mb)</th><th scope=col>max used</th><th scope=col>(Mb)</th></tr>\n",
       "</thead>\n",
       "<tbody>\n",
       "\t<tr><th scope=row>Ncells</th><td> 13049195</td><td> 697.0</td><td>  23490667</td><td> 1254.6</td><td>  15502831</td><td>  828.0</td></tr>\n",
       "\t<tr><th scope=row>Vcells</th><td>932488373</td><td>7114.4</td><td>1457284296</td><td>11118.2</td><td>1439080965</td><td>10979.4</td></tr>\n",
       "</tbody>\n",
       "</table>\n"
      ],
      "text/latex": [
       "A matrix: 2 × 6 of type dbl\n",
       "\\begin{tabular}{r|llllll}\n",
       "  & used & (Mb) & gc trigger & (Mb) & max used & (Mb)\\\\\n",
       "\\hline\n",
       "\tNcells &  13049195 &  697.0 &   23490667 &  1254.6 &   15502831 &   828.0\\\\\n",
       "\tVcells & 932488373 & 7114.4 & 1457284296 & 11118.2 & 1439080965 & 10979.4\\\\\n",
       "\\end{tabular}\n"
      ],
      "text/markdown": [
       "\n",
       "A matrix: 2 × 6 of type dbl\n",
       "\n",
       "| <!--/--> | used | (Mb) | gc trigger | (Mb) | max used | (Mb) |\n",
       "|---|---|---|---|---|---|---|\n",
       "| Ncells |  13049195 |  697.0 |   23490667 |  1254.6 |   15502831 |   828.0 |\n",
       "| Vcells | 932488373 | 7114.4 | 1457284296 | 11118.2 | 1439080965 | 10979.4 |\n",
       "\n"
      ],
      "text/plain": [
       "       used      (Mb)   gc trigger (Mb)    max used   (Mb)   \n",
       "Ncells  13049195  697.0   23490667  1254.6   15502831   828.0\n",
       "Vcells 932488373 7114.4 1457284296 11118.2 1439080965 10979.4"
      ]
     },
     "metadata": {},
     "output_type": "display_data"
    },
    {
     "name": "stderr",
     "output_type": "stream",
     "text": [
      "Warning message:\n",
      "\"'memory.size()' is Windows-specific\"\n"
     ]
    },
    {
     "data": {
      "text/html": [
       "Inf"
      ],
      "text/latex": [
       "Inf"
      ],
      "text/markdown": [
       "Inf"
      ],
      "text/plain": [
       "[1] Inf"
      ]
     },
     "metadata": {},
     "output_type": "display_data"
    }
   ],
   "source": [
    "gc()"
   ]
  },
  {
   "cell_type": "markdown",
   "metadata": {},
   "source": [
    "### create mofa object"
   ]
  },
  {
   "cell_type": "code",
   "execution_count": 11,
   "metadata": {},
   "outputs": [
    {
     "name": "stderr",
     "output_type": "stream",
     "text": [
      "Creating MOFA object from a Seurat object...\n",
      "\n",
      "No features specified, using variable features from the Seurat object...\n",
      "\n",
      "No groups provided as argument... we assume that all samples are coming from the same group.\n",
      "\n",
      "\n"
     ]
    },
    {
     "data": {
      "text/plain": [
       "Untrained MOFA model with the following characteristics: \n",
       " Number of views: 3 \n",
       " Views names: RNA ATAC_distal ATAC_promoter \n",
       " Number of features (per view): 5000 10721 11646 \n",
       " Number of groups: 1 \n",
       " Groups names: group1 \n",
       " Number of samples (per group): 11909 \n"
      ]
     },
     "metadata": {},
     "output_type": "display_data"
    }
   ],
   "source": [
    "mofa <- create_mofa(seurat, assays = c(\"RNA\",\"ATAC_distal\",\"ATAC_promoter\"))\n",
    "mofa"
   ]
  },
  {
   "cell_type": "code",
   "execution_count": 12,
   "metadata": {},
   "outputs": [],
   "source": [
    "model_opts <- get_default_model_options(mofa)\n",
    "model_opts$num_factors <- 15"
   ]
  },
  {
   "cell_type": "code",
   "execution_count": 13,
   "metadata": {},
   "outputs": [
    {
     "name": "stderr",
     "output_type": "stream",
     "text": [
      "Warning message in prepare_mofa(mofa, model_options = model_opts):\n",
      "\"Some view(s) have a lot of features, it is recommended to performa more stringent feature selection before creating the MOFA object....\"\n",
      "Checking data options...\n",
      "\n",
      "No data options specified, using default...\n",
      "\n",
      "No training options specified, using default...\n",
      "\n",
      "Checking model options...\n",
      "\n"
     ]
    }
   ],
   "source": [
    "mofa <- prepare_mofa(mofa,\n",
    "  model_options = model_opts\n",
    ")"
   ]
  },
  {
   "cell_type": "markdown",
   "metadata": {},
   "source": [
    "### train mofa object (this step takes hours)"
   ]
  },
  {
   "cell_type": "code",
   "execution_count": 14,
   "metadata": {},
   "outputs": [],
   "source": [
    "# saveRDS(mofa, \"mofa.rds\")"
   ]
  },
  {
   "cell_type": "code",
   "execution_count": 1,
   "metadata": {},
   "outputs": [],
   "source": [
    "mofa <- readRDS('mofa.rds') "
   ]
  },
  {
   "cell_type": "code",
   "execution_count": null,
   "metadata": {},
   "outputs": [],
   "source": [
    "# run `pip install mofapy2==0.5.6` in bash if mofapy2 is not installed\n",
    "######  mofa <- run_mofa(mofa) # jupyter keep crashing. Use terminal for this step."
   ]
  }
 ],
 "metadata": {
  "kernelspec": {
   "display_name": "R",
   "language": "R",
   "name": "ir"
  },
  "language_info": {
   "codemirror_mode": "r",
   "file_extension": ".r",
   "mimetype": "text/x-r-source",
   "name": "R",
   "pygments_lexer": "r",
   "version": "4.0.2"
  }
 },
 "nbformat": 4,
 "nbformat_minor": 4
}
